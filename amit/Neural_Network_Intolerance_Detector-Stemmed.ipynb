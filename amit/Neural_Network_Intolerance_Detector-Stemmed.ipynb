{
 "cells": [
  {
   "cell_type": "code",
   "execution_count": 1,
   "metadata": {},
   "outputs": [
    {
     "name": "stderr",
     "output_type": "stream",
     "text": [
      "Using TensorFlow backend.\n"
     ]
    }
   ],
   "source": [
    "# modules used\n",
    "import pandas as pd\n",
    "import matplotlib.pyplot as plt\n",
    "from sklearn.feature_extraction.text import CountVectorizer\n",
    "from keras.models import Sequential\n",
    "from keras import layers\n",
    "import nltk"
   ]
  },
  {
   "cell_type": "code",
   "execution_count": 16,
   "metadata": {},
   "outputs": [
    {
     "name": "stdout",
     "output_type": "stream",
     "text": [
      "Number of Training exmples: 140\n",
      "Number of Test exmples    : 62\n"
     ]
    }
   ],
   "source": [
    "#Class labels\n",
    "#Classification of the text on the basis of \"obscenity\", \"threatening\", \"insulting\", \"hatred\" and \"Intolerance\".\n",
    "list_classes = [\"obscene\", \"threat\", \"insult\", \"hate\", \"Intolerant\"]\n",
    "\n",
    "#Read the data from two CSV files already seperated for Training and testing.\n",
    "#Data is self created and contains text with their respective classes value with \"0\" or \"1\".\n",
    "toxicWordsTrain = pd.read_csv(\"Toxic train set - Final Labels.csv\");\n",
    "toxicWordsTest = pd.read_csv(\"Toxic test set - Final Labelling.csv\");\n",
    "\n",
    "x_train = toxicWordsTrain[\"Comments\"]\n",
    "y_train = toxicWordsTrain[list_classes].values\n",
    "x_test = toxicWordsTest[\"Comments\"]\n",
    "y_test = toxicWordsTest[list_classes].values\n",
    "\n",
    "print(\"Number of Training exmples:\",x_train.shape[0])\n",
    "print(\"Number of Test exmples    :\",x_test.shape[0])"
   ]
  },
  {
   "cell_type": "code",
   "execution_count": 18,
   "metadata": {},
   "outputs": [
    {
     "data": {
      "text/plain": [
       "140"
      ]
     },
     "execution_count": 18,
     "metadata": {},
     "output_type": "execute_result"
    }
   ],
   "source": [
    "len(toxicWordsTrain)"
   ]
  },
  {
   "cell_type": "code",
   "execution_count": 3,
   "metadata": {},
   "outputs": [
    {
     "data": {
      "text/plain": [
       "'Abdullah! stop, you jerk cretin!'"
      ]
     },
     "execution_count": 3,
     "metadata": {},
     "output_type": "execute_result"
    }
   ],
   "source": [
    "x_train[68]"
   ]
  },
  {
   "cell_type": "code",
   "execution_count": 4,
   "metadata": {},
   "outputs": [
    {
     "data": {
      "text/html": [
       "<div>\n",
       "<style scoped>\n",
       "    .dataframe tbody tr th:only-of-type {\n",
       "        vertical-align: middle;\n",
       "    }\n",
       "\n",
       "    .dataframe tbody tr th {\n",
       "        vertical-align: top;\n",
       "    }\n",
       "\n",
       "    .dataframe thead th {\n",
       "        text-align: right;\n",
       "    }\n",
       "</style>\n",
       "<table border=\"1\" class=\"dataframe\">\n",
       "  <thead>\n",
       "    <tr style=\"text-align: right;\">\n",
       "      <th></th>\n",
       "      <th>Comments</th>\n",
       "      <th>obscene</th>\n",
       "      <th>threat</th>\n",
       "      <th>insult</th>\n",
       "      <th>hate</th>\n",
       "      <th>Intolerant</th>\n",
       "    </tr>\n",
       "  </thead>\n",
       "  <tbody>\n",
       "    <tr>\n",
       "      <th>0</th>\n",
       "      <td>I will break the neck of this muslim boy who is my classmate. Fuck you Ratiq.</td>\n",
       "      <td>1</td>\n",
       "      <td>1</td>\n",
       "      <td>0</td>\n",
       "      <td>1</td>\n",
       "      <td>0</td>\n",
       "    </tr>\n",
       "    <tr>\n",
       "      <th>1</th>\n",
       "      <td>Can any one help me to break the neck of my neighbour Rehman?</td>\n",
       "      <td>0</td>\n",
       "      <td>1</td>\n",
       "      <td>0</td>\n",
       "      <td>1</td>\n",
       "      <td>0</td>\n",
       "    </tr>\n",
       "    <tr>\n",
       "      <th>2</th>\n",
       "      <td>We should break the neck of all the muslims.</td>\n",
       "      <td>0</td>\n",
       "      <td>1</td>\n",
       "      <td>0</td>\n",
       "      <td>1</td>\n",
       "      <td>1</td>\n",
       "    </tr>\n",
       "    <tr>\n",
       "      <th>3</th>\n",
       "      <td>Everyone should unite and break the neck of these Islamist.</td>\n",
       "      <td>0</td>\n",
       "      <td>1</td>\n",
       "      <td>0</td>\n",
       "      <td>1</td>\n",
       "      <td>1</td>\n",
       "    </tr>\n",
       "    <tr>\n",
       "      <th>4</th>\n",
       "      <td>Let's group up and kill Ahmed.</td>\n",
       "      <td>0</td>\n",
       "      <td>1</td>\n",
       "      <td>0</td>\n",
       "      <td>1</td>\n",
       "      <td>0</td>\n",
       "    </tr>\n",
       "  </tbody>\n",
       "</table>\n",
       "</div>"
      ],
      "text/plain": [
       "                                                                        Comments  \\\n",
       "0  I will break the neck of this muslim boy who is my classmate. Fuck you Ratiq.   \n",
       "1  Can any one help me to break the neck of my neighbour Rehman?                   \n",
       "2  We should break the neck of all the muslims.                                    \n",
       "3  Everyone should unite and break the neck of these Islamist.                     \n",
       "4  Let's group up and kill Ahmed.                                                  \n",
       "\n",
       "   obscene  threat  insult  hate  Intolerant  \n",
       "0  1        1       0       1     0           \n",
       "1  0        1       0       1     0           \n",
       "2  0        1       0       1     1           \n",
       "3  0        1       0       1     1           \n",
       "4  0        1       0       1     0           "
      ]
     },
     "execution_count": 4,
     "metadata": {},
     "output_type": "execute_result"
    }
   ],
   "source": [
    "# Displaying 5 examples of Training set.\n",
    "\n",
    "pd.set_option('display.max_colwidth', -1)\n",
    "toxicWordsTrain.head(5)"
   ]
  },
  {
   "cell_type": "code",
   "execution_count": 5,
   "metadata": {},
   "outputs": [
    {
     "data": {
      "image/png": "[encoded data removed]",
      "text/plain": [
       "<Figure size 576x360 with 1 Axes>"
      ]
     },
     "metadata": {},
     "output_type": "display_data"
    }
   ],
   "source": [
    "import seaborn as sns\n",
    "colors_list = [\"brownish green\", \"azure\", \"ugly purple\",\n",
    "               \"blood\", \"deep blue\"]\n",
    "\n",
    "palette= sns.xkcd_palette(colors_list)\n",
    "\n",
    "x=toxicWordsTrain.iloc[:,1:].sum()\n",
    "plt.figure(figsize=(8,5))\n",
    "plt.ylim(0, x.max()+20)\n",
    "ax= sns.barplot(x.index, x.values,palette=palette)\n",
    "plt.title(\"Class\")\n",
    "plt.ylabel('Occurrences', fontsize=12)\n",
    "plt.xlabel('Type ')\n",
    "rects = ax.patches\n",
    "labels = x.values\n",
    "for rect, label in zip(rects, labels):\n",
    "    height = rect.get_height()\n",
    "    ax.text(rect.get_x() + rect.get_width()/2, height + 10, label, \n",
    "            ha='center', va='bottom')\n",
    "plt.show()"
   ]
  },
  {
   "cell_type": "code",
   "execution_count": 6,
   "metadata": {},
   "outputs": [],
   "source": [
    "# Tokenize documents using nltk standard tokenizer\n",
    "\n",
    "train_tokens = [nltk.word_tokenize(text) for text in x_train]\n",
    "test_tokens = [nltk.word_tokenize(text) for text in x_test]\n",
    "\n",
    "#Stemming\n",
    "from nltk.stem.porter import *\n",
    "Stemmer = PorterStemmer()\n",
    "\n",
    "for p in range(0,len(train_tokens),1):\n",
    "    if type(train_tokens[p]) == list:\n",
    "        for z in range(0,len(train_tokens[p]),1):\n",
    "            (train_tokens[p][z])= Stemmer.stem(train_tokens[p][z])\n",
    "    else:\n",
    "        train_tokens[p] = Stemmer.stem(train_tokens[p])\n",
    "        \n",
    "train_stemmed = []\n",
    "for count, value in enumerate(train_tokens):\n",
    "    train_stemmed.append(\" \".join(value))"
   ]
  },
  {
   "cell_type": "code",
   "execution_count": 7,
   "metadata": {},
   "outputs": [],
   "source": [
    "#Stemming Test set\n",
    "from nltk.stem.porter import *\n",
    "Stemmer = PorterStemmer()\n",
    "\n",
    "for q in range(0,len(test_tokens),1):\n",
    "    if type(test_tokens[q]) == list:\n",
    "        for y in range(0,len(test_tokens[q]),1):\n",
    "            (test_tokens[q][y])= Stemmer.stem(test_tokens[q][y])\n",
    "    else:\n",
    "        test_tokens[q] = Stemmer.stem(test_tokens[q])\n",
    "        \n",
    "test_stemmed = []\n",
    "for count, value in enumerate(test_tokens):\n",
    "    test_stemmed.append(\" \".join(value))"
   ]
  },
  {
   "cell_type": "code",
   "execution_count": 8,
   "metadata": {},
   "outputs": [],
   "source": [
    "# Preparing a count vector of all the texts of training data and test data.\n",
    "\n",
    "vectorizer = CountVectorizer()\n",
    "vectorizer.fit(train_stemmed)\n",
    "X_train_vector = vectorizer.transform(x_train)\n",
    "X_test_vector  = vectorizer.transform(test_stemmed)"
   ]
  },
  {
   "cell_type": "code",
   "execution_count": 9,
   "metadata": {},
   "outputs": [],
   "source": [
    "# Creating a linear stack of layers for a Deep learning model of size (unique_vocabs_in_training_set * 10 * 5).\n",
    "\n",
    "input_dim = X_train_vector.shape[1]  # Number of features\n",
    "\n",
    "model = Sequential()\n",
    "model.add(layers.Dense(10, input_dim=input_dim, activation='relu'))\n",
    "model.add(layers.Dense(5, activation='sigmoid'))"
   ]
  },
  {
   "cell_type": "code",
   "execution_count": 10,
   "metadata": {},
   "outputs": [
    {
     "name": "stdout",
     "output_type": "stream",
     "text": [
      "_________________________________________________________________\n",
      "Layer (type)                 Output Shape              Param #   \n",
      "=================================================================\n",
      "dense_1 (Dense)              (None, 10)                3920      \n",
      "_________________________________________________________________\n",
      "dense_2 (Dense)              (None, 5)                 55        \n",
      "=================================================================\n",
      "Total params: 3,975\n",
      "Trainable params: 3,975\n",
      "Non-trainable params: 0\n",
      "_________________________________________________________________\n"
     ]
    }
   ],
   "source": [
    "# Configuring the learning process of model with adam optimizer, binary_crossentropy loss.\n",
    "\n",
    "model.compile(loss='binary_crossentropy', \n",
    "              optimizer='adam', \n",
    "              metrics=['accuracy'])\n",
    "model.summary()"
   ]
  },
  {
   "cell_type": "code",
   "execution_count": 11,
   "metadata": {},
   "outputs": [],
   "source": [
    "# Training the model with training data.\n",
    "\n",
    "history = model.fit(X_train_vector, y_train,\n",
    "                    epochs=100,\n",
    "                    verbose=False,\n",
    "                    batch_size=10)"
   ]
  },
  {
   "cell_type": "code",
   "execution_count": 12,
   "metadata": {},
   "outputs": [
    {
     "name": "stdout",
     "output_type": "stream",
     "text": [
      "Training Accuracy: 1.0000\n",
      "Testing Accuracy:  0.8161\n"
     ]
    }
   ],
   "source": [
    "loss, accuracy = model.evaluate(X_train_vector, y_train, verbose=False)\n",
    "print(\"Training Accuracy: {:.4f}\".format(accuracy))\n",
    "loss, accuracy = model.evaluate(X_test_vector, y_test, verbose=False)\n",
    "print(\"Testing Accuracy:  {:.4f}\".format(accuracy))\n",
    "\n"
   ]
  },
  {
   "cell_type": "code",
   "execution_count": 13,
   "metadata": {},
   "outputs": [
    {
     "name": "stdout",
     "output_type": "stream",
     "text": [
      "Toxicity levels for: 'Amit, you pervert. I will kill you stupid'\n",
      "Obscene:              22%\n",
      "Threat:               13%\n",
      "Insult:               85%\n",
      "Hate:                 84%\n",
      "Intolerant:           8%\n",
      "\n"
     ]
    }
   ],
   "source": [
    "# Testing the model on any random data.\n",
    "\n",
    "example_text = ['Amit, you pervert. I will kill you stupid']\n",
    "\n",
    "X_example = vectorizer.transform(example_text)\n",
    "Y_example = model.predict(X_example)\n",
    "\n",
    "print(\"Toxicity levels for: '{}'\".format(example_text[0]))\n",
    "print('Obscene:              {:.0%}'.format(Y_example[0][0]))\n",
    "print('Threat:               {:.0%}'.format(Y_example[0,1]))\n",
    "print('Insult:               {:.0%}'.format(Y_example[0,2]))\n",
    "print('Hate:                 {:.0%}'.format(Y_example[0,3]))\n",
    "print('Intolerant:           {:.0%}'.format(Y_example[0,4]))\n",
    "print()"
   ]
  },
  {
   "cell_type": "code",
   "execution_count": 14,
   "metadata": {},
   "outputs": [],
   "source": [
    "# # Testing the model on any random data.\n",
    "\n",
    "# example_text = ['Amit, you are a dirty thief. We will chop your hand.']\n",
    "\n",
    "# X_example = vectorizer.transform(example_text)\n",
    "# Y_example = model.predict(X_example)\n",
    "\n",
    "# print(\"Toxicity levels for: '{}'\".format(example_text[0]))\n",
    "# print('Obscene:              {:.0%}'.format(Y_example[0][0]))\n",
    "# print('Threat:               {:.0%}'.format(Y_example[0,1]))\n",
    "# print('Insult:               {:.0%}'.format(Y_example[0,2]))\n",
    "# print('Hate:                 {:.0%}'.format(Y_example[0,3]))\n",
    "# print('Intolerant:           {:.0%}'.format(Y_example[0,4]))\n",
    "# print()"
   ]
  },
  {
   "cell_type": "code",
   "execution_count": 15,
   "metadata": {},
   "outputs": [],
   "source": [
    "# # Testing the model on any random data.\n",
    "\n",
    "# example_text = ['Not evey Immigrant is bad']\n",
    "\n",
    "# X_example = vectorizer.transform(example_text)\n",
    "# Y_example = model.predict(X_example)\n",
    "\n",
    "# print(\"Toxicity levels for: '{}'\".format(example_text[0]))\n",
    "# print('Obscene:              {:.0%}'.format(Y_example[0][0]))\n",
    "# print('Threat:               {:.0%}'.format(Y_example[0,1]))\n",
    "# print('Insult:               {:.0%}'.format(Y_example[0,2]))\n",
    "# print('Hate:                 {:.0%}'.format(Y_example[0,3]))\n",
    "# print('Intolerant:           {:.0%}'.format(Y_example[0,4]))\n",
    "# print()"
   ]
  },
  {
   "cell_type": "code",
   "execution_count": null,
   "metadata": {},
   "outputs": [],
   "source": []
  }
 ],
 "metadata": {
  "kernelspec": {
   "display_name": "Python 3",
   "language": "python",
   "name": "python3"
  },
  "language_info": {
   "codemirror_mode": {
    "name": "ipython",
    "version": 3
   },
   "file_extension": ".py",
   "mimetype": "text/x-python",
   "name": "python",
   "nbconvert_exporter": "python",
   "pygments_lexer": "ipython3",
   "version": "3.6.6"
  }
 },
 "nbformat": 4,
 "nbformat_minor": 2
}
