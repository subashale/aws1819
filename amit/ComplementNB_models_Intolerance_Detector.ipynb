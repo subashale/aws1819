{
 "cells": [
  {
   "cell_type": "code",
   "execution_count": 1,
   "metadata": {},
   "outputs": [],
   "source": [
    "# modules used\n",
    "import pandas as pd\n",
    "import matplotlib.pyplot as plt\n",
    "from sklearn.feature_extraction.text import CountVectorizer\n",
    "import nltk\n",
    "import numpy as np\n"
   ]
  },
  {
   "cell_type": "code",
   "execution_count": 2,
   "metadata": {},
   "outputs": [
    {
     "name": "stdout",
     "output_type": "stream",
     "text": [
      "Number of Training exmples: 140\n",
      "Number of Test exmples    : 62\n"
     ]
    }
   ],
   "source": [
    "#Class labels\n",
    "#Classification of the text on the basis of \"obscenity\", \"threatening\", \"insulting\", \"hatred\" and \"Intolerance\".\n",
    "list_classes = [\"obscene\", \"threat\", \"insult\", \"hate\", \"Intolerant\"]\n",
    "\n",
    "#Read the data from two CSV files already seperated for Training and testing.\n",
    "#Data is self created and contains text with their respective classes value with \"0\" or \"1\".\n",
    "toxicWordsTrain = pd.read_csv(\"Toxic train set - Final Labels.csv\");\n",
    "toxicWordsTest = pd.read_csv(\"Toxic test set - Final Labelling.csv\");\n",
    "\n",
    "x_train = toxicWordsTrain[\"Comments\"]\n",
    "y_train = toxicWordsTrain[list_classes].values\n",
    "x_test = toxicWordsTest[\"Comments\"]\n",
    "y_test = toxicWordsTest[list_classes].values\n",
    "\n",
    "print(\"Number of Training exmples:\",x_train.shape[0])\n",
    "print(\"Number of Test exmples    :\",x_test.shape[0])"
   ]
  },
  {
   "cell_type": "code",
   "execution_count": 3,
   "metadata": {},
   "outputs": [
    {
     "data": {
      "text/html": [
       "<div>\n",
       "<style scoped>\n",
       "    .dataframe tbody tr th:only-of-type {\n",
       "        vertical-align: middle;\n",
       "    }\n",
       "\n",
       "    .dataframe tbody tr th {\n",
       "        vertical-align: top;\n",
       "    }\n",
       "\n",
       "    .dataframe thead th {\n",
       "        text-align: right;\n",
       "    }\n",
       "</style>\n",
       "<table border=\"1\" class=\"dataframe\">\n",
       "  <thead>\n",
       "    <tr style=\"text-align: right;\">\n",
       "      <th></th>\n",
       "      <th>Comments</th>\n",
       "      <th>obscene</th>\n",
       "      <th>threat</th>\n",
       "      <th>insult</th>\n",
       "      <th>hate</th>\n",
       "      <th>Intolerant</th>\n",
       "    </tr>\n",
       "  </thead>\n",
       "  <tbody>\n",
       "    <tr>\n",
       "      <th>0</th>\n",
       "      <td>I will break the neck of this muslim boy who is my classmate. Fuck you Ratiq.</td>\n",
       "      <td>1</td>\n",
       "      <td>1</td>\n",
       "      <td>0</td>\n",
       "      <td>1</td>\n",
       "      <td>0</td>\n",
       "    </tr>\n",
       "    <tr>\n",
       "      <th>1</th>\n",
       "      <td>Can any one help me to break the neck of my neighbour Rehman?</td>\n",
       "      <td>0</td>\n",
       "      <td>1</td>\n",
       "      <td>0</td>\n",
       "      <td>1</td>\n",
       "      <td>0</td>\n",
       "    </tr>\n",
       "    <tr>\n",
       "      <th>2</th>\n",
       "      <td>We should break the neck of all the muslims.</td>\n",
       "      <td>0</td>\n",
       "      <td>1</td>\n",
       "      <td>0</td>\n",
       "      <td>1</td>\n",
       "      <td>1</td>\n",
       "    </tr>\n",
       "    <tr>\n",
       "      <th>3</th>\n",
       "      <td>Everyone should unite and break the neck of these Islamist.</td>\n",
       "      <td>0</td>\n",
       "      <td>1</td>\n",
       "      <td>0</td>\n",
       "      <td>1</td>\n",
       "      <td>1</td>\n",
       "    </tr>\n",
       "    <tr>\n",
       "      <th>4</th>\n",
       "      <td>Let's group up and kill Ahmed.</td>\n",
       "      <td>0</td>\n",
       "      <td>1</td>\n",
       "      <td>0</td>\n",
       "      <td>1</td>\n",
       "      <td>0</td>\n",
       "    </tr>\n",
       "  </tbody>\n",
       "</table>\n",
       "</div>"
      ],
      "text/plain": [
       "                                                                        Comments  \\\n",
       "0  I will break the neck of this muslim boy who is my classmate. Fuck you Ratiq.   \n",
       "1  Can any one help me to break the neck of my neighbour Rehman?                   \n",
       "2  We should break the neck of all the muslims.                                    \n",
       "3  Everyone should unite and break the neck of these Islamist.                     \n",
       "4  Let's group up and kill Ahmed.                                                  \n",
       "\n",
       "   obscene  threat  insult  hate  Intolerant  \n",
       "0  1        1       0       1     0           \n",
       "1  0        1       0       1     0           \n",
       "2  0        1       0       1     1           \n",
       "3  0        1       0       1     1           \n",
       "4  0        1       0       1     0           "
      ]
     },
     "execution_count": 3,
     "metadata": {},
     "output_type": "execute_result"
    }
   ],
   "source": [
    "# Displaying 5 examples of Training set.\n",
    "\n",
    "pd.set_option('display.max_colwidth', -1)\n",
    "toxicWordsTrain.head(5)"
   ]
  },
  {
   "cell_type": "code",
   "execution_count": 4,
   "metadata": {},
   "outputs": [
    {
     "data": {
      "image/png": "[encoded data removed]",
      "text/plain": [
       "<Figure size 576x360 with 1 Axes>"
      ]
     },
     "metadata": {},
     "output_type": "display_data"
    }
   ],
   "source": [
    "import seaborn as sns\n",
    "colors_list = [\"brownish green\", \"azure\", \"ugly purple\",\n",
    "               \"blood\", \"deep blue\"]\n",
    "\n",
    "palette= sns.xkcd_palette(colors_list)\n",
    "\n",
    "x=toxicWordsTrain.iloc[:,1:].sum()\n",
    "plt.figure(figsize=(8,5))\n",
    "plt.ylim(0, x.max()+20)\n",
    "ax= sns.barplot(x.index, x.values,palette=palette)\n",
    "plt.title(\"Class\")\n",
    "plt.ylabel('Occurrences', fontsize=12)\n",
    "plt.xlabel('Type ')\n",
    "rects = ax.patches\n",
    "labels = x.values\n",
    "for rect, label in zip(rects, labels):\n",
    "    height = rect.get_height()\n",
    "    ax.text(rect.get_x() + rect.get_width()/2, height + 10, label, \n",
    "            ha='center', va='bottom')\n",
    "plt.show()"
   ]
  },
  {
   "cell_type": "code",
   "execution_count": 5,
   "metadata": {},
   "outputs": [],
   "source": [
    "# Tokenize documents using nltk standard tokenizer\n",
    "\n",
    "train_tokens = [nltk.word_tokenize(text) for text in x_train]\n",
    "test_tokens = [nltk.word_tokenize(text) for text in x_test]"
   ]
  },
  {
   "cell_type": "code",
   "execution_count": 6,
   "metadata": {},
   "outputs": [],
   "source": [
    "#Stemming Training set\n",
    "from nltk.stem.porter import *\n",
    "Stemmer = PorterStemmer()\n",
    "\n",
    "for p in range(0,len(train_tokens),1):\n",
    "    if type(train_tokens[p]) == list:\n",
    "        for z in range(0,len(train_tokens[p]),1):\n",
    "            (train_tokens[p][z])= Stemmer.stem(train_tokens[p][z])\n",
    "    else:\n",
    "        train_tokens[p] = Stemmer.stem(train_tokens[p])\n",
    "        \n",
    "train_stemmed = []\n",
    "for count, value in enumerate(train_tokens):\n",
    "    train_stemmed.append(\" \".join(value))"
   ]
  },
  {
   "cell_type": "code",
   "execution_count": 7,
   "metadata": {},
   "outputs": [],
   "source": [
    "#Stemming Test set\n",
    "from nltk.stem.porter import *\n",
    "Stemmer = PorterStemmer()\n",
    "\n",
    "for q in range(0,len(test_tokens),1):\n",
    "    if type(test_tokens[q]) == list:\n",
    "        for y in range(0,len(test_tokens[q]),1):\n",
    "            (test_tokens[q][y])= Stemmer.stem(test_tokens[q][y])\n",
    "    else:\n",
    "        test_tokens[q] = Stemmer.stem(test_tokens[q])\n",
    "        \n",
    "test_stemmed = []\n",
    "for count, value in enumerate(test_tokens):\n",
    "    test_stemmed.append(\" \".join(value))"
   ]
  },
  {
   "cell_type": "code",
   "execution_count": 8,
   "metadata": {},
   "outputs": [
    {
     "data": {
      "text/plain": [
       "'I will break the neck of thi muslim boy who is my classmat . fuck you ratiq .'"
      ]
     },
     "execution_count": 8,
     "metadata": {},
     "output_type": "execute_result"
    }
   ],
   "source": [
    "train_stemmed[0]"
   ]
  },
  {
   "cell_type": "code",
   "execution_count": 9,
   "metadata": {},
   "outputs": [
    {
     "data": {
      "text/plain": [
       "408"
      ]
     },
     "execution_count": 9,
     "metadata": {},
     "output_type": "execute_result"
    }
   ],
   "source": [
    "freq = nltk.FreqDist(token for tokens in train_tokens for token in tokens)\n",
    "len(freq)"
   ]
  },
  {
   "cell_type": "code",
   "execution_count": 10,
   "metadata": {},
   "outputs": [],
   "source": [
    "# Select 100 Most Common Words/Tokens as features\n",
    "\n",
    "word_features = [w for w, _ in freq.most_common(len(freq))]"
   ]
  },
  {
   "cell_type": "code",
   "execution_count": 11,
   "metadata": {},
   "outputs": [],
   "source": [
    "from nltk.corpus import stopwords\n",
    "\n",
    "stopWords = nltk.corpus.stopwords.words('english')\n",
    "new_stop_words = ['?','!',',','.',';','&','>','<',')','(','/','\\'s','\\'\\'','``']\n",
    "stopWords.extend(new_stop_words)\n",
    "#new_stop_words_1 = ['I','thi','He','We','hi','everi','like','boy','march']\n",
    "#stopWords.extend(new_stop_words_1)\n",
    "wordsFiltered = []\n",
    " \n",
    "for w in word_features:\n",
    "    if (w not in stopWords) and (not isinstance(w,float)):\n",
    "        wordsFiltered.append(w)"
   ]
  },
  {
   "cell_type": "code",
   "execution_count": 12,
   "metadata": {},
   "outputs": [
    {
     "data": {
      "text/plain": [
       "CountVectorizer(analyzer='word', binary=False, decode_error='strict',\n",
       "        dtype=<class 'numpy.int64'>, encoding='utf-8', input='content',\n",
       "        lowercase=True, max_df=1.0, max_features=None, min_df=1,\n",
       "        ngram_range=(1, 1), preprocessor=None, stop_words=None,\n",
       "        strip_accents=None, token_pattern='(?u)\\\\b\\\\w\\\\w+\\\\b',\n",
       "        tokenizer=None, vocabulary=None)"
      ]
     },
     "execution_count": 12,
     "metadata": {},
     "output_type": "execute_result"
    }
   ],
   "source": [
    "vectorizer = CountVectorizer()\n",
    "vectorizer.fit(wordsFiltered)"
   ]
  },
  {
   "cell_type": "code",
   "execution_count": 13,
   "metadata": {},
   "outputs": [],
   "source": [
    "X_train_vector = vectorizer.transform(train_stemmed)\n",
    "X_test_vector  = vectorizer.transform(test_stemmed)"
   ]
  },
  {
   "cell_type": "code",
   "execution_count": 14,
   "metadata": {},
   "outputs": [
    {
     "data": {
      "text/plain": [
       "array([0, 0, 0, 0, 0, 0, 0, 0, 0, 0, 0, 0, 0, 0, 0, 0, 0, 0, 0, 0, 0, 0,\n",
       "       0, 0, 0, 0, 0, 0, 0, 0, 0, 0, 0, 0, 0, 0, 0, 0, 0, 0, 0, 0, 0, 0,\n",
       "       0, 0, 0, 0, 0, 0, 0, 0, 0, 0, 0, 0, 0, 0, 0, 0, 0, 0, 0, 1, 0, 1,\n",
       "       0, 0, 0, 0, 0, 0, 0, 0, 0, 0, 1, 0, 0, 0, 0, 0, 0, 0, 0, 0, 0, 0,\n",
       "       0, 0, 0, 0, 0, 0, 0, 0, 0, 0, 0, 0, 0, 0, 0, 0, 0, 0, 0, 0, 0, 0,\n",
       "       0, 0, 0, 0, 0, 0, 0, 0, 0, 0, 1, 0, 0, 0, 0, 0, 0, 0, 0, 0, 0, 0,\n",
       "       0, 0, 0, 0, 0, 0, 0, 0, 0, 0, 0, 0, 0, 0, 0, 0, 0, 0, 0, 0, 0, 0,\n",
       "       0, 0, 0, 0, 0, 0, 0, 0, 0, 0, 0, 0, 0, 0, 0, 0, 0, 0, 0, 0, 0, 0,\n",
       "       0, 0, 0, 0, 0, 0, 0, 0, 0, 0, 0, 0, 0, 0, 0, 0, 0, 0, 0, 0, 0, 0,\n",
       "       0, 1, 1, 0, 0, 1, 0, 0, 0, 0, 0, 0, 0, 0, 0, 0, 0, 0, 0, 0, 0, 0,\n",
       "       0, 0, 0, 0, 0, 0, 0, 0, 0, 0, 0, 0, 1, 0, 0, 0, 0, 0, 0, 0, 0, 0,\n",
       "       0, 0, 0, 0, 0, 0, 0, 0, 0, 0, 0, 0, 0, 0, 0, 0, 0, 0, 0, 0, 0, 0,\n",
       "       0, 0, 0, 0, 0, 0, 0, 0, 0, 0, 0, 0, 0, 0, 0, 0, 0, 0, 0, 0, 0, 0,\n",
       "       0, 0, 0, 1, 0, 0, 0, 0, 0, 0, 0, 0, 0, 0, 0, 0, 0, 0, 0, 0, 0, 0,\n",
       "       0, 0, 0, 0, 0, 0, 0, 0, 0, 0, 0, 0, 0, 0, 0, 0, 0, 0, 0, 0, 0, 0,\n",
       "       0, 0, 0, 0], dtype=int64)"
      ]
     },
     "execution_count": 14,
     "metadata": {},
     "output_type": "execute_result"
    }
   ],
   "source": [
    "X_train_vector.toarray()[0]"
   ]
  },
  {
   "cell_type": "code",
   "execution_count": null,
   "metadata": {},
   "outputs": [],
   "source": []
  },
  {
   "cell_type": "code",
   "execution_count": 15,
   "metadata": {},
   "outputs": [
    {
     "ename": "ImportError",
     "evalue": "cannot import name 'ComplementNB'",
     "output_type": "error",
     "traceback": [
      "\u001b[1;31m---------------------------------------------------------------------------\u001b[0m",
      "\u001b[1;31mImportError\u001b[0m                               Traceback (most recent call last)",
      "\u001b[1;32m<ipython-input-15-2241bca11e60>\u001b[0m in \u001b[0;36m<module>\u001b[1;34m()\u001b[0m\n\u001b[0;32m      2\u001b[0m \u001b[1;31m#from sklearn.naive_bayes import BernoulliNB\u001b[0m\u001b[1;33m\u001b[0m\u001b[1;33m\u001b[0m\u001b[0m\n\u001b[0;32m      3\u001b[0m \u001b[1;32mimport\u001b[0m \u001b[0mcollections\u001b[0m\u001b[1;33m\u001b[0m\u001b[0m\n\u001b[1;32m----> 4\u001b[1;33m \u001b[1;32mfrom\u001b[0m \u001b[0msklearn\u001b[0m\u001b[1;33m.\u001b[0m\u001b[0mnaive_bayes\u001b[0m \u001b[1;32mimport\u001b[0m \u001b[0mComplementNB\u001b[0m\u001b[1;33m\u001b[0m\u001b[0m\n\u001b[0m",
      "\u001b[1;31mImportError\u001b[0m: cannot import name 'ComplementNB'"
     ]
    }
   ],
   "source": [
    "# From the scikit-learn library, we are using Bernoulli's Naive Bayes\n",
    "#from sklearn.naive_bayes import BernoulliNB\n",
    "import collections\n",
    "from sklearn.naive_bayes import ComplementNB"
   ]
  },
  {
   "cell_type": "code",
   "execution_count": 16,
   "metadata": {},
   "outputs": [
    {
     "ename": "NameError",
     "evalue": "name 'ComplementNB' is not defined",
     "output_type": "error",
     "traceback": [
      "\u001b[1;31m---------------------------------------------------------------------------\u001b[0m",
      "\u001b[1;31mNameError\u001b[0m                                 Traceback (most recent call last)",
      "\u001b[1;32m<ipython-input-16-770531da9ffb>\u001b[0m in \u001b[0;36m<module>\u001b[1;34m()\u001b[0m\n\u001b[0;32m      4\u001b[0m \u001b[1;33m\u001b[0m\u001b[0m\n\u001b[0;32m      5\u001b[0m \u001b[1;32mfor\u001b[0m \u001b[0mi\u001b[0m\u001b[1;33m,\u001b[0m \u001b[0mcategory\u001b[0m \u001b[1;32min\u001b[0m \u001b[0menumerate\u001b[0m\u001b[1;33m(\u001b[0m\u001b[0mlist_classes\u001b[0m\u001b[1;33m)\u001b[0m\u001b[1;33m:\u001b[0m\u001b[1;33m\u001b[0m\u001b[0m\n\u001b[1;32m----> 6\u001b[1;33m     \u001b[0mclf\u001b[0m \u001b[1;33m=\u001b[0m \u001b[0mComplementNB\u001b[0m\u001b[1;33m(\u001b[0m\u001b[1;33m)\u001b[0m\u001b[1;33m\u001b[0m\u001b[0m\n\u001b[0m\u001b[0;32m      7\u001b[0m \u001b[1;33m\u001b[0m\u001b[0m\n\u001b[0;32m      8\u001b[0m     \u001b[1;31m# We train each classifier individually, so we must use\u001b[0m\u001b[1;33m\u001b[0m\u001b[1;33m\u001b[0m\u001b[0m\n",
      "\u001b[1;31mNameError\u001b[0m: name 'ComplementNB' is not defined"
     ]
    }
   ],
   "source": [
    "# Using Naive Bayes for Multi-Label-Classificaition:\n",
    "# One classifier for each label:\n",
    "clfs = collections.OrderedDict()\n",
    "\n",
    "for i, category in enumerate(list_classes):\n",
    "    clf = ComplementNB()\n",
    "    \n",
    "    # We train each classifier individually, so we must use\n",
    "    # only 0 or 1 as y_train.\n",
    "    #y_train_clf = [yt[i] for yt in y_train]\n",
    "    \n",
    "    # .fit() will train the model with the training data\n",
    "    clf.fit(X_train_vector, y_train[:,i])\n",
    "    \n",
    "    clfs[category] = clf"
   ]
  },
  {
   "cell_type": "code",
   "execution_count": 44,
   "metadata": {},
   "outputs": [],
   "source": [
    "# do prediction for each article in the test documents\n",
    "import numpy as np\n",
    "y_pred = np.zeros((len(y_test), len(list_classes)))\n",
    "\n",
    "for i, (cat, clf) in enumerate(clfs.items()):\n",
    "    y_pred[:, i] = clf.predict(X_test_vector)"
   ]
  },
  {
   "cell_type": "code",
   "execution_count": 45,
   "metadata": {},
   "outputs": [
    {
     "name": "stdout",
     "output_type": "stream",
     "text": [
      "Accuracy : 0.3065\n",
      "Precision: 0.8033\n",
      "Recall   : 0.8143\n",
      "F1-Score : 0.7995\n"
     ]
    }
   ],
   "source": [
    "# We can evaluate the performance with functionality from the scikit-learn library.\n",
    "from sklearn import metrics\n",
    "\n",
    "print(\"Accuracy : {:.4f}\".format(metrics.accuracy_score(y_test, y_pred)))\n",
    "print(\"Precision: {:.4f}\".format(metrics.precision_score(y_test, y_pred, average='macro')))\n",
    "print(\"Recall   : {:.4f}\".format(metrics.recall_score(y_test, y_pred, average='macro')))\n",
    "print(\"F1-Score : {:.4f}\".format(metrics.f1_score(y_test, y_pred, average='macro')))"
   ]
  },
  {
   "cell_type": "code",
   "execution_count": 46,
   "metadata": {},
   "outputs": [
    {
     "name": "stdout",
     "output_type": "stream",
     "text": [
      "******** 0 *****\n",
      "Accuracy : 0.7742\n",
      "Precision: 0.7467\n",
      "Recall   : 0.7679\n",
      "F1-Score : 0.7534\n",
      "******** 1 *****\n",
      "Accuracy : 0.9355\n",
      "Precision: 0.9545\n",
      "Recall   : 0.9091\n",
      "F1-Score : 0.9262\n",
      "******** 2 *****\n",
      "Accuracy : 0.7903\n",
      "Precision: 0.7675\n",
      "Recall   : 0.7834\n",
      "F1-Score : 0.7733\n",
      "******** 3 *****\n",
      "Accuracy : 0.7903\n",
      "Precision: 0.7842\n",
      "Recall   : 0.7982\n",
      "F1-Score : 0.7858\n",
      "******** 4 *****\n",
      "Accuracy : 0.7097\n",
      "Precision: 0.7634\n",
      "Recall   : 0.7097\n",
      "F1-Score : 0.6941\n"
     ]
    }
   ],
   "source": [
    "# We can evaluate the performance with functionality from the scikit-learn library.\n",
    "from sklearn import metrics\n",
    "for i, (cat, clf) in enumerate(clfs.items()):\n",
    "    print(\"********\",i,\"*****\")\n",
    "    print(\"Accuracy : {:.4f}\".format(metrics.accuracy_score(y_test[:, i], y_pred[:, i])))\n",
    "    print(\"Precision: {:.4f}\".format(metrics.precision_score(y_test[:, i], y_pred[:, i], average='macro')))\n",
    "    print(\"Recall   : {:.4f}\".format(metrics.recall_score(y_test[:, i], y_pred[:, i], average='macro')))\n",
    "    print(\"F1-Score : {:.4f}\".format(metrics.f1_score(y_test[:, i], y_pred[:, i], average='macro')))"
   ]
  },
  {
   "cell_type": "code",
   "execution_count": 47,
   "metadata": {},
   "outputs": [
    {
     "name": "stdout",
     "output_type": "stream",
     "text": [
      "Toxicity levels for: 'Amit, you pervert. I will kill you stupid'\n",
      "Obscene:              0%\n",
      "Threat:               0%\n",
      "Insult:               100%\n",
      "Hate:                 0%\n",
      "Intolerant:           0%\n",
      "\n"
     ]
    }
   ],
   "source": [
    "import numpy as np\n",
    "example_text = 'Amit, you pervert. I will kill you stupid'\n",
    "\n",
    "example_token = nltk.word_tokenize(example_text)\n",
    "stemmed_token = []\n",
    "for i in example_token:\n",
    "    stemmed_token.append(Stemmer.stem(i))    \n",
    "\n",
    "stemmed_string = \" \".join(stemmed_token)\n",
    "\n",
    "\n",
    "Y_example = np.zeros((1, len(list_classes)))\n",
    "X_example = vectorizer.transform([stemmed_string])\n",
    "for i, (cat, clf) in enumerate(clfs.items()):\n",
    "    Y_example[:, i] = clf.predict(X_example)\n",
    "\n",
    "print(\"Toxicity levels for: '{}'\".format(example_text))\n",
    "print('Obscene:              {:.0%}'.format(Y_example[0][0]))\n",
    "print('Threat:               {:.0%}'.format(Y_example[0,1]))\n",
    "print('Insult:               {:.0%}'.format(Y_example[0,2]))\n",
    "print('Hate:                 {:.0%}'.format(Y_example[0,3]))\n",
    "print('Intolerant:           {:.0%}'.format(Y_example[0,4]))\n",
    "print()"
   ]
  },
  {
   "cell_type": "code",
   "execution_count": 24,
   "metadata": {},
   "outputs": [
    {
     "name": "stdout",
     "output_type": "stream",
     "text": [
      "Toxicity levels for: 'Amit, you are a dirty thief. We will chop your hand.'\n",
      "Obscene:              0%\n",
      "Threat:               100%\n",
      "Insult:               0%\n",
      "Hate:                 100%\n",
      "Intolerant:           100%\n",
      "\n"
     ]
    }
   ],
   "source": [
    "# import numpy as np\n",
    "# example_text = 'Amit, you are a dirty thief. We will chop your hand.'\n",
    "\n",
    "# example_token = nltk.word_tokenize(example_text)\n",
    "# stemmed_token = []\n",
    "# for i in example_token:\n",
    "#     stemmed_token.append(Stemmer.stem(i))    \n",
    "\n",
    "# stemmed_string = \" \".join(stemmed_token)\n",
    "\n",
    "\n",
    "# Y_example = np.zeros((1, len(list_classes)))\n",
    "# X_example = vectorizer.transform([stemmed_string])\n",
    "# for i, (cat, clf) in enumerate(clfs.items()):\n",
    "#     Y_example[:, i] = clf.predict(X_example)\n",
    "\n",
    "# print(\"Toxicity levels for: '{}'\".format(example_text))\n",
    "# print('Obscene:              {:.0%}'.format(Y_example[0][0]))\n",
    "# print('Threat:               {:.0%}'.format(Y_example[0,1]))\n",
    "# print('Insult:               {:.0%}'.format(Y_example[0,2]))\n",
    "# print('Hate:                 {:.0%}'.format(Y_example[0,3]))\n",
    "# print('Intolerant:           {:.0%}'.format(Y_example[0,4]))\n",
    "# print()"
   ]
  },
  {
   "cell_type": "code",
   "execution_count": null,
   "metadata": {},
   "outputs": [],
   "source": [
    "# import numpy as np\n",
    "# example_text = 'You Immigrants are dirty people'\n",
    "\n",
    "# example_token = nltk.word_tokenize(example_text)\n",
    "# stemmed_token = []\n",
    "# for i in example_token:\n",
    "#     stemmed_token.append(Stemmer.stem(i))    \n",
    "\n",
    "# stemmed_string = \" \".join(stemmed_token)\n",
    "\n",
    "\n",
    "# Y_example = np.zeros((1, len(list_classes)))\n",
    "# X_example = vectorizer.transform([stemmed_string])\n",
    "# for i, (cat, clf) in enumerate(clfs.items()):\n",
    "#     Y_example[:, i] = clf.predict(X_example)\n",
    "\n",
    "# print(\"Toxicity levels for: '{}'\".format(example_text))\n",
    "# print('Obscene:              {:.0%}'.format(Y_example[0][0]))\n",
    "# print('Threat:               {:.0%}'.format(Y_example[0,1]))\n",
    "# print('Insult:               {:.0%}'.format(Y_example[0,2]))\n",
    "# print('Hate:                 {:.0%}'.format(Y_example[0,3]))\n",
    "# print('Intolerant:           {:.0%}'.format(Y_example[0,4]))\n",
    "# print()"
   ]
  },
  {
   "cell_type": "code",
   "execution_count": null,
   "metadata": {},
   "outputs": [],
   "source": [
    "# import numpy as np\n",
    "# example_text = 'Not every Immigrants are dirty people'\n",
    "\n",
    "# example_token = nltk.word_tokenize(example_text)\n",
    "# stemmed_token = []\n",
    "# for i in example_token:\n",
    "#     stemmed_token.append(Stemmer.stem(i))    \n",
    "\n",
    "# stemmed_string = \" \".join(stemmed_token)\n",
    "\n",
    "\n",
    "# Y_example = np.zeros((1, len(list_classes)))\n",
    "# X_example = vectorizer.transform([stemmed_string])\n",
    "# for i, (cat, clf) in enumerate(clfs.items()):\n",
    "#     Y_example[:, i] = clf.predict(X_example)\n",
    "\n",
    "# print(\"Toxicity levels for: '{}'\".format(example_text))\n",
    "# print('Obscene:              {:.0%}'.format(Y_example[0][0]))\n",
    "# print('Threat:               {:.0%}'.format(Y_example[0,1]))\n",
    "# print('Insult:               {:.0%}'.format(Y_example[0,2]))\n",
    "# print('Hate:                 {:.0%}'.format(Y_example[0,3]))\n",
    "# print('Intolerant:           {:.0%}'.format(Y_example[0,4]))\n",
    "# print()"
   ]
  },
  {
   "cell_type": "code",
   "execution_count": null,
   "metadata": {},
   "outputs": [],
   "source": []
  }
 ],
 "metadata": {
  "kernelspec": {
   "display_name": "Python 3",
   "language": "python",
   "name": "python3"
  },
  "language_info": {
   "codemirror_mode": {
    "name": "ipython",
    "version": 3
   },
   "file_extension": ".py",
   "mimetype": "text/x-python",
   "name": "python",
   "nbconvert_exporter": "python",
   "pygments_lexer": "ipython3",
   "version": "3.6.6"
  }
 },
 "nbformat": 4,
 "nbformat_minor": 2
}
