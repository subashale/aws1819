{
 "cells": [
  {
   "cell_type": "code",
   "execution_count": 4,
   "metadata": {},
   "outputs": [],
   "source": [
    "%config IPCompleter.greedy = True\n",
    "#System\n",
    "import time\n",
    "import re\n",
    "import itertools\n",
    "import string\n",
    "#processing\n",
    "import numpy as np\n",
    "import pandas as pd\n",
    "import nltk\n",
    "from nltk.corpus import stopwords\n",
    "from nltk.stem.porter import PorterStemmer\n",
    "\n",
    "from sklearn.preprocessing import MultiLabelBinarizer\n",
    "\n",
    "#feature engineering\n",
    "from sklearn.feature_extraction.text import TfidfVectorizer, CountVectorizer\n",
    "from sklearn_pandas import DataFrameMapper, cross_val_score\n",
    "\n",
    "#classifiers\n",
    "from sklearn.multiclass import OneVsRestClassifier\n",
    "from sklearn.tree import DecisionTreeClassifier\n",
    "from sklearn.svm import LinearSVC\n",
    "from sklearn.linear_model import LogisticRegression, LogisticRegressionCV, SGDClassifier, Perceptron, RidgeClassifierCV\n",
    "from sklearn.ensemble import RandomForestClassifier, AdaBoostClassifier, ExtraTreesClassifier\n",
    "from sklearn.neighbors import KNeighborsClassifier\n",
    "from sklearn.neural_network import MLPClassifier\n",
    "\n",
    "#Evaluation\n",
    "from sklearn.metrics import confusion_matrix, classification_report\n",
    "from sklearn.metrics import accuracy_score, precision_recall_fscore_support, fbeta_score\n",
    "from sklearn.model_selection import train_test_split\n",
    "\n",
    "#Report\n",
    "import matplotlib.pyplot as plt   \n",
    "import seaborn as sns\n"
   ]
  },
  {
   "cell_type": "code",
   "execution_count": 5,
   "metadata": {},
   "outputs": [],
   "source": [
    "#load data\n",
    "dataFrameTraining = pd.read_csv(\"data/Toxic_train_set.csv\")\n",
    "dataFrameTesting = pd.read_csv(\"data/Toxic_test_set.csv\")\n",
    "\n",
    "dftr = dataFrameTraining\n",
    "dfte = dataFrameTesting\n",
    "\n",
    "all_categories = [\"obscene\", \"threat\", \"insult\", \"hate\", \"Intolerant\"]"
   ]
  },
  {
   "cell_type": "code",
   "execution_count": 6,
   "metadata": {},
   "outputs": [],
   "source": [
    "data = pd.concat([dftr, dfte], ignore_index=True )"
   ]
  },
  {
   "cell_type": "code",
   "execution_count": 7,
   "metadata": {},
   "outputs": [],
   "source": [
    "stopWords = nltk.corpus.stopwords.words('english')\n",
    "new_stop_words = ['?','!',',','.',';','&','>','<',')','(','/','\\'s','\\'\\'','``']\n",
    "stopWords.extend(new_stop_words)\n",
    "new_stop_words_1 = ['I','thi','He','We','hi','everi','like','boy','march']\n",
    "stopWords.extend(new_stop_words_1)\n",
    "\n",
    "ps = nltk.PorterStemmer()"
   ]
  },
  {
   "cell_type": "code",
   "execution_count": 8,
   "metadata": {},
   "outputs": [],
   "source": [
    "#for countvectorizer\n",
    "def comment_clean_cv(comment):\n",
    "    comment = \"\".join([word.lower() for word in comment if word not in string.punctuation])\n",
    "    tokens = re.split('\\W+', comment)\n",
    "    comment = [ps.stem(word) for word in tokens if word not in stopWords]\n",
    "    return comment"
   ]
  },
  {
   "cell_type": "code",
   "execution_count": 9,
   "metadata": {},
   "outputs": [],
   "source": [
    "def comment_clean_ngram(comment):\n",
    "    comment = \"\".join([word.lower() for word in comment if word not in string.punctuation])\n",
    "    tokens = re.split('\\W+', comment)\n",
    "    comment = \" \".join([ps.stem(word) for word in tokens if word not in stopWords])\n",
    "    return comment\n",
    "\n",
    "#dftr['Comments'] = dftr['Comments'].apply(lambda x: comment_clean_ngram(x))"
   ]
  },
  {
   "cell_type": "code",
   "execution_count": 10,
   "metadata": {},
   "outputs": [],
   "source": [
    "data['comment_length'] = data['Comments'].apply(lambda x: len(x) - x.count(\" \"))"
   ]
  },
  {
   "cell_type": "code",
   "execution_count": 11,
   "metadata": {},
   "outputs": [],
   "source": [
    "def polarityReturn(text):    \n",
    "    try:\n",
    "        return TextBlob(text).sentiment.polarity\n",
    "    except:\n",
    "        return None"
   ]
  },
  {
   "cell_type": "code",
   "execution_count": 12,
   "metadata": {},
   "outputs": [],
   "source": [
    "data['sentiment'] = data['Comments'].apply(polarityReturn)"
   ]
  },
  {
   "cell_type": "code",
   "execution_count": 13,
   "metadata": {},
   "outputs": [],
   "source": [
    "from textblob import TextBlob\n",
    "def polarityReturn(text):    \n",
    "    try:\n",
    "        return TextBlob(text).sentiment.polarity\n",
    "    except:\n",
    "        return None\n",
    "# adding new feature of sentiment polarity rating\n",
    "data['sentiment'] = data['Comments'].apply(polarityReturn)\n"
   ]
  },
  {
   "cell_type": "code",
   "execution_count": 14,
   "metadata": {},
   "outputs": [],
   "source": [
    "def getLabelList(data):\n",
    "    categories = []\n",
    "    for i in range(len(data)):            \n",
    "        tempList = []\n",
    "        for category in all_categories:        \n",
    "            if data[category][i] == 1:\n",
    "                tempList.append(category)   \n",
    "        #print(tempList, i)\n",
    "                #print(data[category][i], category, i)            \n",
    "        categories.append(tempList)\n",
    "    return categories"
   ]
  },
  {
   "cell_type": "code",
   "execution_count": 15,
   "metadata": {},
   "outputs": [],
   "source": [
    "# making labels single list\n",
    "train_categories = tuple(getLabelList(dftr))\n",
    "test_categories = tuple(getLabelList(dfte))"
   ]
  },
  {
   "cell_type": "code",
   "execution_count": 16,
   "metadata": {},
   "outputs": [],
   "source": [
    "labels = train_categories + test_categories"
   ]
  },
  {
   "cell_type": "code",
   "execution_count": 17,
   "metadata": {},
   "outputs": [],
   "source": [
    "mlb = MultiLabelBinarizer()\n",
    "target = mlb.fit_transform(labels)"
   ]
  },
  {
   "cell_type": "code",
   "execution_count": 18,
   "metadata": {},
   "outputs": [],
   "source": [
    "dfmFeatures = DataFrameMapper([\n",
    "    ('Comments', CountVectorizer(analyzer=comment_clean_cv)),\n",
    "    ('Comments', CountVectorizer(analyzer=comment_clean_ngram, ngram_range=(2,2))),\n",
    "    ('Comments', TfidfVectorizer(analyzer=comment_clean_cv)),\n",
    "    ('comment_length', None),\n",
    "    ('sentiment', None)\n",
    "])\n",
    "features = dfmFeatures.fit_transform(data)"
   ]
  },
  {
   "cell_type": "code",
   "execution_count": 19,
   "metadata": {},
   "outputs": [],
   "source": [
    "X_train, X_test, Y_train, Y_test = train_test_split(features, target, test_size=0.3, train_size=0.7, random_state=13)"
   ]
  },
  {
   "cell_type": "code",
   "execution_count": 20,
   "metadata": {},
   "outputs": [],
   "source": [
    "classifiers = [\n",
    "    ('DecisionTreeClassifier', OneVsRestClassifier(DecisionTreeClassifier())),\n",
    "    ('LinearSVC', OneVsRestClassifier(LinearSVC(random_state=23))),        \n",
    "    ('LogisticRegression', OneVsRestClassifier(LogisticRegression())),    \n",
    "    ('LogisticRegressionCV', OneVsRestClassifier(LogisticRegressionCV())),\n",
    "    ('SGDClassifier', OneVsRestClassifier(SGDClassifier())),\n",
    "    ('Perceptron', OneVsRestClassifier(Perceptron())),\n",
    "    ('RidgeClassifierCV', OneVsRestClassifier(RidgeClassifierCV())),\n",
    "    ('RandomForestClassifier', OneVsRestClassifier(RandomForestClassifier(n_estimators=100, n_jobs=10))),        \n",
    "    ('AdaBoostClassifier', OneVsRestClassifier(AdaBoostClassifier())),    \n",
    "    ('ExtraTreesClassifier', OneVsRestClassifier(ExtraTreesClassifier())),        \n",
    "    ('KNeighborsClassifier', OneVsRestClassifier(KNeighborsClassifier(n_neighbors=5))),    \n",
    "    ('MLPClassifier', OneVsRestClassifier(MLPClassifier())),    \n",
    "]"
   ]
  },
  {
   "cell_type": "code",
   "execution_count": 21,
   "metadata": {},
   "outputs": [
    {
     "name": "stdout",
     "output_type": "stream",
     "text": [
      "Classifier                    : score  in train /  test\n",
      "--------------------------------------------------------------------------------\n",
      "DecisionTreeClassifier        : 62.30% 83.42% in 0.05s train / 0.00s test\n",
      "LinearSVC                     : 68.85% 85.33% in 0.10s train / 0.01s test\n",
      "LogisticRegression            : 54.10% 76.18% in 0.09s train / 0.00s test\n",
      "LogisticRegressionCV          : 59.02% 78.54% in 11.85s train / 0.00s test\n",
      "SGDClassifier                 : 1.64% 48.17% in 0.06s train / 0.00s test\n",
      "Perceptron                    : 6.56% 43.89% in 0.03s train / 0.00s test\n"
     ]
    },
    {
     "name": "stderr",
     "output_type": "stream",
     "text": [
      "C:\\Users\\subash\\Anaconda3\\lib\\site-packages\\sklearn\\linear_model\\stochastic_gradient.py:128: FutureWarning: max_iter and tol parameters have been added in <class 'sklearn.linear_model.stochastic_gradient.SGDClassifier'> in 0.19. If both are left unset, they default to max_iter=5 and tol=None. If tol is not None, max_iter defaults to max_iter=1000. From 0.21, default max_iter will be 1000, and default tol will be 1e-3.\n",
      "  \"and default tol will be 1e-3.\" % type(self), FutureWarning)\n",
      "C:\\Users\\subash\\Anaconda3\\lib\\site-packages\\sklearn\\linear_model\\stochastic_gradient.py:128: FutureWarning: max_iter and tol parameters have been added in <class 'sklearn.linear_model.stochastic_gradient.SGDClassifier'> in 0.19. If both are left unset, they default to max_iter=5 and tol=None. If tol is not None, max_iter defaults to max_iter=1000. From 0.21, default max_iter will be 1000, and default tol will be 1e-3.\n",
      "  \"and default tol will be 1e-3.\" % type(self), FutureWarning)\n",
      "C:\\Users\\subash\\Anaconda3\\lib\\site-packages\\sklearn\\linear_model\\stochastic_gradient.py:128: FutureWarning: max_iter and tol parameters have been added in <class 'sklearn.linear_model.stochastic_gradient.SGDClassifier'> in 0.19. If both are left unset, they default to max_iter=5 and tol=None. If tol is not None, max_iter defaults to max_iter=1000. From 0.21, default max_iter will be 1000, and default tol will be 1e-3.\n",
      "  \"and default tol will be 1e-3.\" % type(self), FutureWarning)\n",
      "C:\\Users\\subash\\Anaconda3\\lib\\site-packages\\sklearn\\linear_model\\stochastic_gradient.py:128: FutureWarning: max_iter and tol parameters have been added in <class 'sklearn.linear_model.stochastic_gradient.SGDClassifier'> in 0.19. If both are left unset, they default to max_iter=5 and tol=None. If tol is not None, max_iter defaults to max_iter=1000. From 0.21, default max_iter will be 1000, and default tol will be 1e-3.\n",
      "  \"and default tol will be 1e-3.\" % type(self), FutureWarning)\n",
      "C:\\Users\\subash\\Anaconda3\\lib\\site-packages\\sklearn\\linear_model\\stochastic_gradient.py:128: FutureWarning: max_iter and tol parameters have been added in <class 'sklearn.linear_model.stochastic_gradient.SGDClassifier'> in 0.19. If both are left unset, they default to max_iter=5 and tol=None. If tol is not None, max_iter defaults to max_iter=1000. From 0.21, default max_iter will be 1000, and default tol will be 1e-3.\n",
      "  \"and default tol will be 1e-3.\" % type(self), FutureWarning)\n",
      "C:\\Users\\subash\\Anaconda3\\lib\\site-packages\\sklearn\\metrics\\classification.py:1135: UndefinedMetricWarning: F-score is ill-defined and being set to 0.0 in labels with no predicted samples.\n",
      "  'precision', 'predicted', average, warn_for)\n",
      "C:\\Users\\subash\\Anaconda3\\lib\\site-packages\\sklearn\\linear_model\\stochastic_gradient.py:128: FutureWarning: max_iter and tol parameters have been added in <class 'sklearn.linear_model.perceptron.Perceptron'> in 0.19. If both are left unset, they default to max_iter=5 and tol=None. If tol is not None, max_iter defaults to max_iter=1000. From 0.21, default max_iter will be 1000, and default tol will be 1e-3.\n",
      "  \"and default tol will be 1e-3.\" % type(self), FutureWarning)\n",
      "C:\\Users\\subash\\Anaconda3\\lib\\site-packages\\sklearn\\linear_model\\stochastic_gradient.py:128: FutureWarning: max_iter and tol parameters have been added in <class 'sklearn.linear_model.perceptron.Perceptron'> in 0.19. If both are left unset, they default to max_iter=5 and tol=None. If tol is not None, max_iter defaults to max_iter=1000. From 0.21, default max_iter will be 1000, and default tol will be 1e-3.\n",
      "  \"and default tol will be 1e-3.\" % type(self), FutureWarning)\n",
      "C:\\Users\\subash\\Anaconda3\\lib\\site-packages\\sklearn\\linear_model\\stochastic_gradient.py:128: FutureWarning: max_iter and tol parameters have been added in <class 'sklearn.linear_model.perceptron.Perceptron'> in 0.19. If both are left unset, they default to max_iter=5 and tol=None. If tol is not None, max_iter defaults to max_iter=1000. From 0.21, default max_iter will be 1000, and default tol will be 1e-3.\n",
      "  \"and default tol will be 1e-3.\" % type(self), FutureWarning)\n",
      "C:\\Users\\subash\\Anaconda3\\lib\\site-packages\\sklearn\\linear_model\\stochastic_gradient.py:128: FutureWarning: max_iter and tol parameters have been added in <class 'sklearn.linear_model.perceptron.Perceptron'> in 0.19. If both are left unset, they default to max_iter=5 and tol=None. If tol is not None, max_iter defaults to max_iter=1000. From 0.21, default max_iter will be 1000, and default tol will be 1e-3.\n",
      "  \"and default tol will be 1e-3.\" % type(self), FutureWarning)\n",
      "C:\\Users\\subash\\Anaconda3\\lib\\site-packages\\sklearn\\linear_model\\stochastic_gradient.py:128: FutureWarning: max_iter and tol parameters have been added in <class 'sklearn.linear_model.perceptron.Perceptron'> in 0.19. If both are left unset, they default to max_iter=5 and tol=None. If tol is not None, max_iter defaults to max_iter=1000. From 0.21, default max_iter will be 1000, and default tol will be 1e-3.\n",
      "  \"and default tol will be 1e-3.\" % type(self), FutureWarning)\n",
      "C:\\Users\\subash\\Anaconda3\\lib\\site-packages\\sklearn\\metrics\\classification.py:1135: UndefinedMetricWarning: F-score is ill-defined and being set to 0.0 in labels with no predicted samples.\n",
      "  'precision', 'predicted', average, warn_for)\n"
     ]
    },
    {
     "name": "stdout",
     "output_type": "stream",
     "text": [
      "RidgeClassifierCV             : 73.77% 85.40% in 0.13s train / 0.00s test\n",
      "RandomForestClassifier        : 50.82% 74.76% in 2.02s train / 0.87s test\n",
      "AdaBoostClassifier            : 75.41% 90.39% in 2.29s train / 0.30s test\n",
      "ExtraTreesClassifier          : 68.85% 85.50% in 0.44s train / 0.02s test\n",
      "KNeighborsClassifier          : 24.59% 52.33% in 0.04s train / 0.08s test\n"
     ]
    },
    {
     "name": "stderr",
     "output_type": "stream",
     "text": [
      "C:\\Users\\subash\\Anaconda3\\lib\\site-packages\\sklearn\\metrics\\classification.py:1135: UndefinedMetricWarning: F-score is ill-defined and being set to 0.0 in labels with no predicted samples.\n",
      "  'precision', 'predicted', average, warn_for)\n"
     ]
    },
    {
     "name": "stdout",
     "output_type": "stream",
     "text": [
      "MLPClassifier                 : 21.31% 52.86% in 3.74s train / 0.01s test\n"
     ]
    },
    {
     "name": "stderr",
     "output_type": "stream",
     "text": [
      "C:\\Users\\subash\\Anaconda3\\lib\\site-packages\\sklearn\\metrics\\classification.py:1135: UndefinedMetricWarning: F-score is ill-defined and being set to 0.0 in labels with no predicted samples.\n",
      "  'precision', 'predicted', average, warn_for)\n"
     ]
    }
   ],
   "source": [
    "print((\"{clf_name:<30}: {score:<5}  in {train_time:>5} /  {test_time}\")\n",
    "      .format(clf_name=\"Classifier\", score=\"score\", train_time=\"train\", test_time=\"test\"))\n",
    "print(\"-\" * 80)\n",
    "cls_dict = {}\n",
    "for clf_name, classifier in classifiers:\n",
    "    t0 = time.time()\n",
    "    y_pred = classifier.fit(X_train, Y_train)\n",
    "    cls_dict.update({clf_name: y_pred})\n",
    "    t1 = time.time()\n",
    "    \n",
    "    preds = classifier.predict(X_test)\n",
    "    preds[preds >= 0.5] = 1\n",
    "    preds[preds < 0.5] = 0    \n",
    "    t2 = time.time()\n",
    "\n",
    "    acc = accuracy_score(y_true=Y_test, y_pred=preds)\n",
    "    f1 = fbeta_score(y_true=Y_test, y_pred=preds, beta=1, average=\"weighted\")\n",
    "    print((\"{clf_name:<30}: {acc:0.2f}% {f1:0.2f}% in {train_time:0.2f}s\"\n",
    "           \" train / {test_time:0.2f}s test\")\n",
    "          .format(clf_name=clf_name,\n",
    "                  acc=(acc * 100),\n",
    "                  f1=(f1 * 100),\n",
    "                  train_time=t1 - t0,\n",
    "                  test_time=t2 - t1))       "
   ]
  },
  {
   "cell_type": "code",
   "execution_count": 22,
   "metadata": {},
   "outputs": [
    {
     "name": "stdout",
     "output_type": "stream",
     "text": [
      "Accuracy: 0.21311475409836064, Precision: 0.5928961748633881,Recall: 0.6229508196721312, F1: 0.5650273224043715\n"
     ]
    },
    {
     "name": "stderr",
     "output_type": "stream",
     "text": [
      "C:\\Users\\subash\\Anaconda3\\lib\\site-packages\\sklearn\\metrics\\classification.py:1137: UndefinedMetricWarning: Recall and F-score are ill-defined and being set to 0.0 in samples with no true labels.\n",
      "  'recall', 'true', average, warn_for)\n"
     ]
    }
   ],
   "source": [
    "Y_test_predict = cls_dict['MLPClassifier'].predict(X_test)\n",
    "\n",
    "[precision, recall, F1, support] = \\\n",
    "precision_recall_fscore_support(Y_test, Y_test_predict, average='samples')\n",
    "accuracy = accuracy_score(Y_test, Y_test_predict)\n",
    "print(\"Accuracy: {}, Precision: {},Recall: {}, F1: {}\".format(accuracy, precision, recall, F1))"
   ]
  },
  {
   "cell_type": "code",
   "execution_count": 28,
   "metadata": {},
   "outputs": [],
   "source": [
    "#creating a confusion matrix\n",
    "#note:\n",
    "#import sklearn.metrics.multilabel_confusion_matrix\n",
    "#https://stackoverflow.com/questions/48872738/understanding-multi-label-classifier-using-confusion-matrix\n",
    "\n",
    "def plot_confusion_matrix(cm, classes, normalize=False, title='Confusion matrix', cmap=plt.cm.Blues):\n",
    "    print(cm)\n",
    "    plt.figure(num=None, figsize=(10, 10), dpi=70, facecolor='w', edgecolor='k')\n",
    "    plt.imshow(cm, interpolation='nearest', cmap=cmap)\n",
    "    plt.title(title)\n",
    "    plt.colorbar()\n",
    "    tick_marks = np.arange(len(classes))\n",
    "    # Setup labels \n",
    "    plt.xticks(tick_marks, classes, rotation=45)\n",
    "    plt.yticks(tick_marks, classes)\n",
    "    fmt = '.2f' if normalize else 'd'\n",
    "    thresh = cm.max() / 2.\n",
    "    for i, j in itertools.product(range(cm.shape[0]), range(cm.shape[1])):\n",
    "        plt.text(j, i, format(cm[i, j], fmt), horizontalalignment=\"center\", color=\"white\" if cm[i, j] > thresh else \"black\")\n",
    "\n",
    "    plt.tight_layout() \n",
    "    plt.ylabel('True label')\n",
    "    plt.xlabel('Predicted label')"
   ]
  },
  {
   "cell_type": "code",
   "execution_count": 29,
   "metadata": {},
   "outputs": [],
   "source": [
    "ConfusionMatrix = confusion_matrix(Y_test.argmax(axis=1), Y_test_predict.argmax(axis=1))"
   ]
  },
  {
   "cell_type": "code",
   "execution_count": 30,
   "metadata": {},
   "outputs": [
    {
     "name": "stdout",
     "output_type": "stream",
     "text": [
      "[[34  0  0  0  0]\n",
      " [ 1  0  0  0  0]\n",
      " [ 7  0  0  0  0]\n",
      " [12  0  0  0  0]\n",
      " [ 7  0  0  0  0]]\n"
     ]
    },
    {
     "data": {
      "image/png": "[encoded data removed]",
      "text/plain": [
       "<Figure size 700x700 with 2 Axes>"
      ]
     },
     "metadata": {},
     "output_type": "display_data"
    }
   ],
   "source": [
    "plot_confusion_matrix(ConfusionMatrix, classes=all_categories, title='Confusion matrix')\n",
    "plt.show()"
   ]
  },
  {
   "cell_type": "code",
   "execution_count": null,
   "metadata": {},
   "outputs": [],
   "source": []
  }
 ],
 "metadata": {
  "kernelspec": {
   "display_name": "Python 3",
   "language": "python",
   "name": "python3"
  },
  "language_info": {
   "codemirror_mode": {
    "name": "ipython",
    "version": 3
   },
   "file_extension": ".py",
   "mimetype": "text/x-python",
   "name": "python",
   "nbconvert_exporter": "python",
   "pygments_lexer": "ipython3",
   "version": "3.6.6"
  }
 },
 "nbformat": 4,
 "nbformat_minor": 2
}
