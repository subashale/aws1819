{
 "cells": [
  {
   "cell_type": "code",
   "execution_count": 1,
   "metadata": {},
   "outputs": [],
   "source": [
    "%config IPCompleter.greedy = True\n",
    "#System\n",
    "import time\n",
    "import re\n",
    "import itertools\n",
    "\n",
    "#processing\n",
    "import numpy as np\n",
    "import pandas as pd\n",
    "import nltk\n",
    "from nltk.corpus import stopwords\n",
    "from nltk.stem.porter import PorterStemmer\n",
    "\n",
    "\n",
    "from sklearn.preprocessing import MultiLabelBinarizer\n",
    "\n",
    "#feature\n",
    "from sklearn.feature_extraction.text import TfidfVectorizer, CountVectorizer\n",
    "\n",
    "#classifiers\n",
    "from sklearn.multiclass import OneVsRestClassifier\n",
    "from sklearn.tree import DecisionTreeClassifier\n",
    "from sklearn.svm import LinearSVC\n",
    "from sklearn.linear_model import LogisticRegression, LogisticRegressionCV, SGDClassifier, Perceptron, RidgeClassifierCV\n",
    "from sklearn.ensemble import RandomForestClassifier, AdaBoostClassifier, ExtraTreesClassifier\n",
    "from sklearn.neighbors import KNeighborsClassifier\n",
    "from sklearn.neural_network import MLPClassifier\n",
    "\n",
    "#Evaluation\n",
    "from sklearn.metrics import confusion_matrix, classification_report\n",
    "from sklearn.metrics import accuracy_score, precision_recall_fscore_support, fbeta_score\n",
    "\n",
    "#Report\n",
    "import matplotlib.pyplot as plt   \n",
    "import seaborn as sns\n"
   ]
  },
  {
   "cell_type": "code",
   "execution_count": 2,
   "metadata": {},
   "outputs": [],
   "source": [
    "#load data\n",
    "dataFrameTraining = pd.read_csv(\"data/Toxic_train_set.csv\")\n",
    "dataFrameTesting = pd.read_csv(\"data/Toxic_test_set.csv\")\n",
    "\n",
    "dftr = dataFrameTraining\n",
    "dfte = dataFrameTesting\n",
    "\n",
    "train_documents = tuple(dftr['Comments'])\n",
    "test_documents = tuple(dfte['Comments'])\n",
    "\n",
    "all_categories = [\"obscene\", \"threat\", \"insult\", \"hate\", \"Intolerant\"]"
   ]
  },
  {
   "cell_type": "code",
   "execution_count": 3,
   "metadata": {},
   "outputs": [
    {
     "data": {
      "text/html": [
       "<div>\n",
       "<style scoped>\n",
       "    .dataframe tbody tr th:only-of-type {\n",
       "        vertical-align: middle;\n",
       "    }\n",
       "\n",
       "    .dataframe tbody tr th {\n",
       "        vertical-align: top;\n",
       "    }\n",
       "\n",
       "    .dataframe thead th {\n",
       "        text-align: right;\n",
       "    }\n",
       "</style>\n",
       "<table border=\"1\" class=\"dataframe\">\n",
       "  <thead>\n",
       "    <tr style=\"text-align: right;\">\n",
       "      <th></th>\n",
       "      <th>category</th>\n",
       "      <th>number_of_comments</th>\n",
       "    </tr>\n",
       "  </thead>\n",
       "  <tbody>\n",
       "    <tr>\n",
       "      <th>0</th>\n",
       "      <td>obscene</td>\n",
       "      <td>38</td>\n",
       "    </tr>\n",
       "    <tr>\n",
       "      <th>1</th>\n",
       "      <td>threat</td>\n",
       "      <td>47</td>\n",
       "    </tr>\n",
       "    <tr>\n",
       "      <th>2</th>\n",
       "      <td>insult</td>\n",
       "      <td>34</td>\n",
       "    </tr>\n",
       "    <tr>\n",
       "      <th>3</th>\n",
       "      <td>hate</td>\n",
       "      <td>16</td>\n",
       "    </tr>\n",
       "    <tr>\n",
       "      <th>4</th>\n",
       "      <td>Intolerant</td>\n",
       "      <td>69</td>\n",
       "    </tr>\n",
       "  </tbody>\n",
       "</table>\n",
       "</div>"
      ],
      "text/plain": [
       "     category  number_of_comments\n",
       "0     obscene                  38\n",
       "1      threat                  47\n",
       "2      insult                  34\n",
       "3        hate                  16\n",
       "4  Intolerant                  69"
      ]
     },
     "execution_count": 3,
     "metadata": {},
     "output_type": "execute_result"
    }
   ],
   "source": [
    "df_toxic = dftr.drop(['Comments'], axis=1)\n",
    "counts = []\n",
    "categories = list(df_toxic.columns.values)\n",
    "for i in categories:\n",
    "    counts.append((i, df_toxic[i].sum()))\n",
    "df_stats = pd.DataFrame(counts, columns=['category', 'number_of_comments'])\n",
    "df_stats"
   ]
  },
  {
   "cell_type": "code",
   "execution_count": 4,
   "metadata": {},
   "outputs": [
    {
     "data": {
      "text/plain": [
       "Text(0.5,0,'category')"
      ]
     },
     "execution_count": 4,
     "metadata": {},
     "output_type": "execute_result"
    },
    {
     "data": {
      "image/png": "[encoded data removed]",
      "text/plain": [
       "<Figure size 576x360 with 1 Axes>"
      ]
     },
     "metadata": {},
     "output_type": "display_data"
    }
   ],
   "source": [
    "df_stats.plot(x='category', y='number_of_comments', kind='bar', legend=False, grid=True, figsize=(8, 5))\n",
    "plt.title(\"Number of comments per category\")\n",
    "plt.ylabel('# of Occurrences', fontsize=12)\n",
    "plt.xlabel('category', fontsize=12)"
   ]
  },
  {
   "cell_type": "code",
   "execution_count": 5,
   "metadata": {},
   "outputs": [
    {
     "data": {
      "text/plain": [
       "<matplotlib.axes._subplots.AxesSubplot at 0x1fd7737b278>"
      ]
     },
     "execution_count": 5,
     "metadata": {},
     "output_type": "execute_result"
    },
    {
     "data": {
      "image/png": "[encoded data removed]",
      "text/plain": [
       "<Figure size 432x288 with 1 Axes>"
      ]
     },
     "metadata": {},
     "output_type": "display_data"
    }
   ],
   "source": [
    "lens = dftr.Comments.str.len()\n",
    "lens.hist(bins = np.arange(0,150,60))"
   ]
  },
  {
   "cell_type": "code",
   "execution_count": 6,
   "metadata": {},
   "outputs": [
    {
     "data": {
      "text/plain": [
       "Text(0.5,0,'# of categories')"
      ]
     },
     "execution_count": 6,
     "metadata": {},
     "output_type": "execute_result"
    },
    {
     "data": {
      "image/png": "[encoded data removed]",
      "text/plain": [
       "<Figure size 576x360 with 1 Axes>"
      ]
     },
     "metadata": {},
     "output_type": "display_data"
    }
   ],
   "source": [
    "#how many labels per example\n",
    "rowsums = dftr.iloc[:,2:].sum(axis=1)\n",
    "x=rowsums.value_counts()\n",
    "#plot\n",
    "plt.figure(figsize=(8,5))\n",
    "ax = sns.barplot(x.index, x.values)\n",
    "plt.title(\"Multiple categories per comment\")\n",
    "plt.ylabel('# of Occurrences', fontsize=12)\n",
    "plt.xlabel('# of categories', fontsize=12)"
   ]
  },
  {
   "cell_type": "code",
   "execution_count": 7,
   "metadata": {},
   "outputs": [],
   "source": [
    "def getLabelList(data):\n",
    "    categories = []\n",
    "    for i in range(len(data)):            \n",
    "        tempList = []\n",
    "        for category in all_categories:        \n",
    "            if data[category][i] == 1:\n",
    "                tempList.append(category)   \n",
    "        #print(tempList, i)\n",
    "                #print(data[category][i], category, i)            \n",
    "        categories.append(tempList)\n",
    "    return categories"
   ]
  },
  {
   "cell_type": "code",
   "execution_count": 8,
   "metadata": {},
   "outputs": [],
   "source": [
    "# making labels single list\n",
    "train_categories = tuple(getLabelList(dftr))\n",
    "test_categories = tuple(getLabelList(dfte))"
   ]
  },
  {
   "cell_type": "markdown",
   "metadata": {},
   "source": [
    "### Tokenizing Sample\n",
    "<p> After setting Train and Test dataset with crossponding classes. Now we made tokenzie function. This function removes stop words and tokenzie each samples using nltk word_tokenize function. The return result will be in list type </p> "
   ]
  },
  {
   "cell_type": "code",
   "execution_count": 9,
   "metadata": {},
   "outputs": [],
   "source": [
    "cachedStopWords = stopwords.words(\"english\")\n",
    "def tokenize(text):    \n",
    "    min_length = 3\n",
    "    words = map(lambda word: word.lower(), nltk.word_tokenize(text))\n",
    "    words = [word for word in words if word not in cachedStopWords]\n",
    "    tokens = (list(map(lambda token: PorterStemmer().stem(token), words)))\n",
    "    p = re.compile('[a-zA-Z]+')\n",
    "    filtered_tokens = list(filter(lambda token: p.match(token) and\n",
    "                                  len(token) >= min_length, tokens))\n",
    "    return filtered_tokens"
   ]
  },
  {
   "cell_type": "markdown",
   "metadata": {},
   "source": [
    "### tf_idf feature extraction process\n",
    "<p> Here we call <b>tokenize</b> function. We have <b>max_feature</b> of 105 . Then we crate callTf_idf object for that function having parameter train_document</p>"
   ]
  },
  {
   "cell_type": "code",
   "execution_count": 10,
   "metadata": {},
   "outputs": [],
   "source": [
    "def tf_idf(docs):\n",
    "    tfidf = TfidfVectorizer(tokenizer=tokenize, max_features=105, use_idf=True, sublinear_tf=True)\n",
    "    tfidf.fit(docs)\n",
    "    return tfidf\n",
    "representer = tf_idf(train_documents)"
   ]
  },
  {
   "cell_type": "markdown",
   "metadata": {},
   "source": [
    "### Text Processing Functions\n",
    "<p> Transform between iterable of iterables and a multilabel format </p>"
   ]
  },
  {
   "cell_type": "code",
   "execution_count": 11,
   "metadata": {},
   "outputs": [],
   "source": [
    "mlb = MultiLabelBinarizer()\n",
    "\n",
    "def get_train_set():\n",
    "    return representer.transform(train_documents),\\\n",
    "        mlb.fit_transform(train_categories)\n",
    "\n",
    "def get_test_set():\n",
    "    return representer.transform(test_documents),\\\n",
    "        mlb.fit_transform(test_categories)"
   ]
  },
  {
   "cell_type": "markdown",
   "metadata": {},
   "source": [
    "### Storing sets of data"
   ]
  },
  {
   "cell_type": "code",
   "execution_count": 12,
   "metadata": {},
   "outputs": [],
   "source": [
    "X_train, Y_train = get_train_set()\n",
    "X_test, Y_test = get_test_set()"
   ]
  },
  {
   "cell_type": "code",
   "execution_count": 13,
   "metadata": {},
   "outputs": [],
   "source": [
    "if not isinstance(X_train, np.ndarray) and isinstance(X_test, np.ndarray):\n",
    "    X_train = X_train.toarray()\n",
    "    X_test = X_test.toarray()"
   ]
  },
  {
   "cell_type": "markdown",
   "metadata": {},
   "source": [
    "### Combine Classifiers\n",
    "<p> Here we uses different classifcation classifers on OnveVsRestClassifier from sklearn </p>"
   ]
  },
  {
   "cell_type": "code",
   "execution_count": 14,
   "metadata": {},
   "outputs": [],
   "source": [
    "classifiers = [\n",
    "    ('DecisionTreeClassifier', OneVsRestClassifier(DecisionTreeClassifier())),\n",
    "    ('LinearSVC', OneVsRestClassifier(LinearSVC(random_state=23))),        \n",
    "    ('LogisticRegression', OneVsRestClassifier(LogisticRegression())),    \n",
    "    ('LogisticRegressionCV', OneVsRestClassifier(LogisticRegressionCV())),\n",
    "    ('SGDClassifier', OneVsRestClassifier(SGDClassifier())),\n",
    "    ('Perceptron', OneVsRestClassifier(Perceptron())),\n",
    "    ('RidgeClassifierCV', OneVsRestClassifier(RidgeClassifierCV())),\n",
    "    ('RandomForestClassifier', OneVsRestClassifier(RandomForestClassifier(n_estimators=100, n_jobs=10))),        \n",
    "    ('AdaBoostClassifier', OneVsRestClassifier(AdaBoostClassifier())),    \n",
    "    ('ExtraTreesClassifier', OneVsRestClassifier(ExtraTreesClassifier())),        \n",
    "    ('KNeighborsClassifier', OneVsRestClassifier(KNeighborsClassifier(n_neighbors=5))),    \n",
    "    ('MLPClassifier', OneVsRestClassifier(MLPClassifier())),    \n",
    "]"
   ]
  },
  {
   "cell_type": "markdown",
   "metadata": {},
   "source": [
    "### Classifier Training\n",
    "<p> In for loop we trained our list of classifers and results are stored in cls_dict dictionary. We train our classifier with with train dataset and test with test dataset. Evaluation is done in test dataset</p>"
   ]
  },
  {
   "cell_type": "code",
   "execution_count": 15,
   "metadata": {},
   "outputs": [
    {
     "name": "stdout",
     "output_type": "stream",
     "text": [
      "Classifier                    : score  in train /  test\n",
      "--------------------------------------------------------------------------------\n",
      "DecisionTreeClassifier        : 91.94% 97.26% in 0.03s train / 0.00s test\n",
      "LinearSVC                     : 93.55% 97.87% in 0.02s train / 0.00s test\n",
      "LogisticRegression            : 50.00% 76.45% in 0.09s train / 0.00s test\n",
      "LogisticRegressionCV          : 93.55% 97.87% in 1.19s train / 0.00s test\n",
      "SGDClassifier                 : 79.03% 92.88% in 0.05s train / 0.00s test\n",
      "Perceptron                    : 82.26% 94.27% in 0.02s train / 0.00s test\n",
      "RidgeClassifierCV             : 87.10% 95.99% in 0.10s train / 0.00s test\n"
     ]
    },
    {
     "name": "stderr",
     "output_type": "stream",
     "text": [
      "C:\\Users\\subash\\Anaconda3\\lib\\site-packages\\sklearn\\linear_model\\stochastic_gradient.py:128: FutureWarning: max_iter and tol parameters have been added in <class 'sklearn.linear_model.stochastic_gradient.SGDClassifier'> in 0.19. If both are left unset, they default to max_iter=5 and tol=None. If tol is not None, max_iter defaults to max_iter=1000. From 0.21, default max_iter will be 1000, and default tol will be 1e-3.\n",
      "  \"and default tol will be 1e-3.\" % type(self), FutureWarning)\n",
      "C:\\Users\\subash\\Anaconda3\\lib\\site-packages\\sklearn\\linear_model\\stochastic_gradient.py:128: FutureWarning: max_iter and tol parameters have been added in <class 'sklearn.linear_model.stochastic_gradient.SGDClassifier'> in 0.19. If both are left unset, they default to max_iter=5 and tol=None. If tol is not None, max_iter defaults to max_iter=1000. From 0.21, default max_iter will be 1000, and default tol will be 1e-3.\n",
      "  \"and default tol will be 1e-3.\" % type(self), FutureWarning)\n",
      "C:\\Users\\subash\\Anaconda3\\lib\\site-packages\\sklearn\\linear_model\\stochastic_gradient.py:128: FutureWarning: max_iter and tol parameters have been added in <class 'sklearn.linear_model.stochastic_gradient.SGDClassifier'> in 0.19. If both are left unset, they default to max_iter=5 and tol=None. If tol is not None, max_iter defaults to max_iter=1000. From 0.21, default max_iter will be 1000, and default tol will be 1e-3.\n",
      "  \"and default tol will be 1e-3.\" % type(self), FutureWarning)\n",
      "C:\\Users\\subash\\Anaconda3\\lib\\site-packages\\sklearn\\linear_model\\stochastic_gradient.py:128: FutureWarning: max_iter and tol parameters have been added in <class 'sklearn.linear_model.stochastic_gradient.SGDClassifier'> in 0.19. If both are left unset, they default to max_iter=5 and tol=None. If tol is not None, max_iter defaults to max_iter=1000. From 0.21, default max_iter will be 1000, and default tol will be 1e-3.\n",
      "  \"and default tol will be 1e-3.\" % type(self), FutureWarning)\n",
      "C:\\Users\\subash\\Anaconda3\\lib\\site-packages\\sklearn\\linear_model\\stochastic_gradient.py:128: FutureWarning: max_iter and tol parameters have been added in <class 'sklearn.linear_model.stochastic_gradient.SGDClassifier'> in 0.19. If both are left unset, they default to max_iter=5 and tol=None. If tol is not None, max_iter defaults to max_iter=1000. From 0.21, default max_iter will be 1000, and default tol will be 1e-3.\n",
      "  \"and default tol will be 1e-3.\" % type(self), FutureWarning)\n",
      "C:\\Users\\subash\\Anaconda3\\lib\\site-packages\\sklearn\\linear_model\\stochastic_gradient.py:128: FutureWarning: max_iter and tol parameters have been added in <class 'sklearn.linear_model.perceptron.Perceptron'> in 0.19. If both are left unset, they default to max_iter=5 and tol=None. If tol is not None, max_iter defaults to max_iter=1000. From 0.21, default max_iter will be 1000, and default tol will be 1e-3.\n",
      "  \"and default tol will be 1e-3.\" % type(self), FutureWarning)\n",
      "C:\\Users\\subash\\Anaconda3\\lib\\site-packages\\sklearn\\linear_model\\stochastic_gradient.py:128: FutureWarning: max_iter and tol parameters have been added in <class 'sklearn.linear_model.perceptron.Perceptron'> in 0.19. If both are left unset, they default to max_iter=5 and tol=None. If tol is not None, max_iter defaults to max_iter=1000. From 0.21, default max_iter will be 1000, and default tol will be 1e-3.\n",
      "  \"and default tol will be 1e-3.\" % type(self), FutureWarning)\n",
      "C:\\Users\\subash\\Anaconda3\\lib\\site-packages\\sklearn\\linear_model\\stochastic_gradient.py:128: FutureWarning: max_iter and tol parameters have been added in <class 'sklearn.linear_model.perceptron.Perceptron'> in 0.19. If both are left unset, they default to max_iter=5 and tol=None. If tol is not None, max_iter defaults to max_iter=1000. From 0.21, default max_iter will be 1000, and default tol will be 1e-3.\n",
      "  \"and default tol will be 1e-3.\" % type(self), FutureWarning)\n",
      "C:\\Users\\subash\\Anaconda3\\lib\\site-packages\\sklearn\\linear_model\\stochastic_gradient.py:128: FutureWarning: max_iter and tol parameters have been added in <class 'sklearn.linear_model.perceptron.Perceptron'> in 0.19. If both are left unset, they default to max_iter=5 and tol=None. If tol is not None, max_iter defaults to max_iter=1000. From 0.21, default max_iter will be 1000, and default tol will be 1e-3.\n",
      "  \"and default tol will be 1e-3.\" % type(self), FutureWarning)\n",
      "C:\\Users\\subash\\Anaconda3\\lib\\site-packages\\sklearn\\linear_model\\stochastic_gradient.py:128: FutureWarning: max_iter and tol parameters have been added in <class 'sklearn.linear_model.perceptron.Perceptron'> in 0.19. If both are left unset, they default to max_iter=5 and tol=None. If tol is not None, max_iter defaults to max_iter=1000. From 0.21, default max_iter will be 1000, and default tol will be 1e-3.\n",
      "  \"and default tol will be 1e-3.\" % type(self), FutureWarning)\n"
     ]
    },
    {
     "name": "stdout",
     "output_type": "stream",
     "text": [
      "RandomForestClassifier        : 75.81% 91.12% in 2.27s train / 0.68s test\n",
      "AdaBoostClassifier            : 98.39% 99.46% in 0.97s train / 0.05s test\n",
      "ExtraTreesClassifier          : 83.87% 93.57% in 0.16s train / 0.02s test\n",
      "KNeighborsClassifier          : 40.32% 75.57% in 0.01s train / 0.02s test\n"
     ]
    },
    {
     "name": "stderr",
     "output_type": "stream",
     "text": [
      "C:\\Users\\subash\\Anaconda3\\lib\\site-packages\\sklearn\\neural_network\\multilayer_perceptron.py:564: ConvergenceWarning: Stochastic Optimizer: Maximum iterations (200) reached and the optimization hasn't converged yet.\n",
      "  % self.max_iter, ConvergenceWarning)\n",
      "C:\\Users\\subash\\Anaconda3\\lib\\site-packages\\sklearn\\neural_network\\multilayer_perceptron.py:564: ConvergenceWarning: Stochastic Optimizer: Maximum iterations (200) reached and the optimization hasn't converged yet.\n",
      "  % self.max_iter, ConvergenceWarning)\n",
      "C:\\Users\\subash\\Anaconda3\\lib\\site-packages\\sklearn\\neural_network\\multilayer_perceptron.py:564: ConvergenceWarning: Stochastic Optimizer: Maximum iterations (200) reached and the optimization hasn't converged yet.\n",
      "  % self.max_iter, ConvergenceWarning)\n",
      "C:\\Users\\subash\\Anaconda3\\lib\\site-packages\\sklearn\\neural_network\\multilayer_perceptron.py:564: ConvergenceWarning: Stochastic Optimizer: Maximum iterations (200) reached and the optimization hasn't converged yet.\n",
      "  % self.max_iter, ConvergenceWarning)\n"
     ]
    },
    {
     "name": "stdout",
     "output_type": "stream",
     "text": [
      "MLPClassifier                 : 74.19% 91.37% in 4.21s train / 0.00s test\n"
     ]
    },
    {
     "name": "stderr",
     "output_type": "stream",
     "text": [
      "C:\\Users\\subash\\Anaconda3\\lib\\site-packages\\sklearn\\neural_network\\multilayer_perceptron.py:564: ConvergenceWarning: Stochastic Optimizer: Maximum iterations (200) reached and the optimization hasn't converged yet.\n",
      "  % self.max_iter, ConvergenceWarning)\n"
     ]
    }
   ],
   "source": [
    "print((\"{clf_name:<30}: {score:<5}  in {train_time:>5} /  {test_time}\")\n",
    "      .format(clf_name=\"Classifier\", score=\"score\", train_time=\"train\", test_time=\"test\"))\n",
    "print(\"-\" * 80)\n",
    "cls_dict = {}\n",
    "for clf_name, classifier in classifiers:\n",
    "    t0 = time.time()\n",
    "    y_pred = classifier.fit(X_train, Y_train)\n",
    "    cls_dict.update({clf_name: y_pred})\n",
    "    t1 = time.time()\n",
    "    \n",
    "    preds = classifier.predict(X_test)\n",
    "    preds[preds >= 0.5] = 1\n",
    "    preds[preds < 0.5] = 0    \n",
    "    t2 = time.time()\n",
    "\n",
    "    acc = accuracy_score(y_true=Y_test, y_pred=preds)\n",
    "    f1 = fbeta_score(y_true=Y_test, y_pred=preds, beta=1, average=\"weighted\")\n",
    "    print((\"{clf_name:<30}: {acc:0.2f}% {f1:0.2f}% in {train_time:0.2f}s\"\n",
    "           \" train / {test_time:0.2f}s test\")\n",
    "          .format(clf_name=clf_name,\n",
    "                  acc=(acc * 100),\n",
    "                  f1=(f1 * 100),\n",
    "                  train_time=t1 - t0,\n",
    "                  test_time=t2 - t1))       "
   ]
  },
  {
   "cell_type": "markdown",
   "metadata": {},
   "source": [
    "### Choosing best Classifier -  Classifier Evaluation\n",
    "<p> Out of 4 classifer scores we choosed best which is LinearSVC. LinearSVC is Linear Support Vector Classification. Similar to SVC with parameter kernel=’linear’, but implemented in terms of liblinear rather than libsvm, so it has more flexibility in the choice of penalties and loss functions and should scale better to large numbers of samples. This class supports both dense and sparse input and the multiclass support is handled according to a one-vs-the-rest scheme. Rest of evaluation precision, recall are also produce here</p>"
   ]
  },
  {
   "cell_type": "code",
   "execution_count": 16,
   "metadata": {},
   "outputs": [
    {
     "name": "stdout",
     "output_type": "stream",
     "text": [
      "Accuracy: 0.9838709677419355, Precision: 0.9596774193548387,Recall: 0.967741935483871, F1: 0.9623655913978494\n"
     ]
    },
    {
     "name": "stderr",
     "output_type": "stream",
     "text": [
      "C:\\Users\\subash\\Anaconda3\\lib\\site-packages\\sklearn\\metrics\\classification.py:1135: UndefinedMetricWarning: Precision and F-score are ill-defined and being set to 0.0 in samples with no predicted labels.\n",
      "  'precision', 'predicted', average, warn_for)\n",
      "C:\\Users\\subash\\Anaconda3\\lib\\site-packages\\sklearn\\metrics\\classification.py:1137: UndefinedMetricWarning: Recall and F-score are ill-defined and being set to 0.0 in samples with no true labels.\n",
      "  'recall', 'true', average, warn_for)\n"
     ]
    }
   ],
   "source": [
    "# a,p,r,f1\n",
    "\n",
    "Y_test_predict = cls_dict['AdaBoostClassifier'].predict(X_test)\n",
    "\n",
    "[precision, recall, F1, support] = \\\n",
    "precision_recall_fscore_support(Y_test, Y_test_predict, average='samples')\n",
    "accuracy = accuracy_score(Y_test, Y_test_predict)\n",
    "print(\"Accuracy: {}, Precision: {},Recall: {}, F1: {}\".format(accuracy, precision, recall, F1))"
   ]
  },
  {
   "cell_type": "markdown",
   "metadata": {},
   "source": [
    "# prob"
   ]
  },
  {
   "cell_type": "code",
   "execution_count": 17,
   "metadata": {},
   "outputs": [
    {
     "name": "stdout",
     "output_type": "stream",
     "text": [
      "[[1 0 0 0 1]]\n",
      "[[0.99 0.   0.01 0.01 0.98]]\n"
     ]
    }
   ],
   "source": [
    "print(cls_dict['RandomForestClassifier'].predict(X_test[1]))\n",
    "print(cls_dict['RandomForestClassifier'].predict_proba(X_test[1]))    "
   ]
  },
  {
   "cell_type": "code",
   "execution_count": 18,
   "metadata": {},
   "outputs": [],
   "source": [
    "def rawPrediction(getText, model):\n",
    "    example_text = [getText]\n",
    "    vectorised_testing_new = representer.transform(example_text)\n",
    "    getPredictionVector = model.predict(vectorised_testing_new)\n",
    "    getPredictionVectorProba = model.predict_proba(vectorised_testing_new)\n",
    "    example_labels = mlb.inverse_transform(getPredictionVector)\n",
    "    return example_labels, vectorised_testing_new, getPredictionVectorProba"
   ]
  },
  {
   "cell_type": "code",
   "execution_count": 22,
   "metadata": {},
   "outputs": [
    {
     "name": "stdout",
     "output_type": "stream",
     "text": [
      "Example text: Amit you are pervert. I dislike anything you do you stupid.\n",
      "Predicted labels: ('hate', 'insult', 'obscene')\n",
      "\n",
      "\n",
      "Intolerant : 0.38\n",
      "hate : 1.0\n",
      "insult : 0.89\n",
      "obscene : 0.86\n",
      "threat : 0.15\n"
     ]
    }
   ],
   "source": [
    "# predict new text\n",
    "labels = ['Intolerant', 'hate', 'insult', 'obscene', 'threat']\n",
    "#newText = test_documents[13]\n",
    "#example_text = \" I dislike you and will kill you raifd. You pervert stupid muslim\"\n",
    "#example_text = \"Amit, you pervert. I will kill you stupid\"\n",
    "#example_text = \"They are not pervert and stupid\"\n",
    "example_text = \"Amit you are pervert. I dislike anything you do you stupid.\"\n",
    "#example_text = \"Muslim are good\"\n",
    "#example_text = \"Muslim are not stupid!\"\n",
    "#example_text = \"The world is beautiful, take time to realize it\"\n",
    "#example_text = 'stupid, fuck, suck, kill, dislike'\n",
    "#example_text = \"They are pervert and stupid\"\n",
    "#example_text = \"Amit, you pervert. I will kill you stupid\"\n",
    "\n",
    "newText = example_text\n",
    "predictionLables, v, p = rawPrediction(newText, cls_dict['AdaBoostClassifier'])\n",
    "print(\"Example text: {}\".format(newText))\n",
    "print(\"Predicted labels: {}\".format(''.join(map(str, predictionLables))))\n",
    "\n",
    "print(\"\\n\")\n",
    "for label, proba in zip(labels, p[0]):    \n",
    "    print(\"{} : {}\".format(label, round(proba,2)))"
   ]
  },
  {
   "cell_type": "markdown",
   "metadata": {},
   "source": [
    "### Ploting Confusion Matrix\n",
    "<p> We have choosed only 13 classes to generate confusion matrix this value is changable </p>"
   ]
  },
  {
   "cell_type": "code",
   "execution_count": 87,
   "metadata": {},
   "outputs": [],
   "source": [
    "#creating a confusion matrix\n",
    "#note:\n",
    "#import sklearn.metrics.multilabel_confusion_matrix\n",
    "#https://stackoverflow.com/questions/48872738/understanding-multi-label-classifier-using-confusion-matrix\n",
    "    \n",
    "\n",
    "def plot_confusion_matrix(cm, classes, normalize=False, title='Confusion matrix', cmap=plt.cm.Blues):\n",
    "    print(cm)\n",
    "    plt.figure(num=None, figsize=(10, 10), dpi=70, facecolor='w', edgecolor='k')\n",
    "    plt.imshow(cm, interpolation='nearest', cmap=cmap)\n",
    "    plt.title(title)\n",
    "    plt.colorbar()\n",
    "    tick_marks = np.arange(len(classes))\n",
    "    # Setup labels \n",
    "    plt.xticks(tick_marks, classes, rotation=45)\n",
    "    plt.yticks(tick_marks, classes)\n",
    "    fmt = '.2f' if normalize else 'd'\n",
    "    thresh = cm.max() / 2.\n",
    "    for i, j in itertools.product(range(cm.shape[0]), range(cm.shape[1])):\n",
    "        plt.text(j, i, format(cm[i, j], fmt), horizontalalignment=\"center\", color=\"white\" if cm[i, j] > thresh else \"black\")\n",
    "\n",
    "    plt.tight_layout() \n",
    "    plt.ylabel('True label')\n",
    "    plt.xlabel('Predicted label')"
   ]
  },
  {
   "cell_type": "code",
   "execution_count": 88,
   "metadata": {},
   "outputs": [],
   "source": [
    "ConfusionMatrix = confusion_matrix(Y_test.argmax(axis=1), Y_test_predict.argmax(axis=1))"
   ]
  },
  {
   "cell_type": "code",
   "execution_count": 91,
   "metadata": {},
   "outputs": [
    {
     "name": "stdout",
     "output_type": "stream",
     "text": [
      "[[27  1  1  4  0]\n",
      " [ 2  2  0  0  0]\n",
      " [ 1  0  6  0  0]\n",
      " [ 2  0  0  6  0]\n",
      " [ 6  0  0  0  4]]\n"
     ]
    },
    {
     "data": {
      "image/png": "[encoded data removed]",
      "text/plain": [
       "<Figure size 700x700 with 2 Axes>"
      ]
     },
     "metadata": {},
     "output_type": "display_data"
    }
   ],
   "source": [
    "plot_confusion_matrix(ConfusionMatrix, classes=all_categories, title='Confusion matrix')\n",
    "plt.show()"
   ]
  },
  {
   "cell_type": "markdown",
   "metadata": {},
   "source": [
    "<p> All correct predictions are located in the diagonal of the table (highlighted in blue color), so it is easy to visually inspect the table for prediction errors, as they will be represented by values outside the diagonal. </p>"
   ]
  }
 ],
 "metadata": {
  "kernelspec": {
   "display_name": "Python 3",
   "language": "python",
   "name": "python3"
  },
  "language_info": {
   "codemirror_mode": {
    "name": "ipython",
    "version": 3
   },
   "file_extension": ".py",
   "mimetype": "text/x-python",
   "name": "python",
   "nbconvert_exporter": "python",
   "pygments_lexer": "ipython3",
   "version": "3.6.6"
  }
 },
 "nbformat": 4,
 "nbformat_minor": 2
}
